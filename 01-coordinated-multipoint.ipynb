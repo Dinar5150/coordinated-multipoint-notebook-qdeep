{
 "cells": [
  {
   "cell_type": "markdown",
   "id": "75fc25d0-bc95-4c05-9d65-6d76daa61838",
   "metadata": {},
   "source": [
    "# Decoding Cellphone Signals with a Quantum Computer\n",
    "\n",
    "This notebook demonstrates the use of a quantum computer for decoding transmissions \n",
    "in cellphone networks and compares the performance to state-of-the-art classical \n",
    "alternatives. It has the following main sections:\n",
    "\n",
    "1. [Modeling a Network](#Modeling-a-Network) instantiates a model wireless/cellular network.\n",
    "2. [Decoding Transmissions: Classical Resources](#Decoding-Transmissions:-Classical-Resources) \n",
    "    demonstrates the capabilities of standard decoding algorithms. \n",
    "3. [Decoding Transmissions: Quantum Resources](#Decoding-Transmissions:-Quantum-Resources) \n",
    "    uses a quantum computer to decode transmissions.\n",
    "4. [Supplementary Technical Material](#Supplementary-Technical-Material) provides \n",
    "    additional, more-detailed technical information.\n",
    "\n",
    "## A Hard (and Expensive) Problem\n",
    "\n",
    "The number of base stations required to serve a large city depends on the stations' \n",
    "signal-processing capacities. Unfortunately, small increases to environmental noise \n",
    "and cellphone numbers quickly harden[[1]](#1) the problem of decoding transmissions. \n",
    "The graphic below shows the dependency of transmission errors on \n",
    "[SNRb](https://en.wikipedia.org/wiki/Signal-to-noise_ratio), signal-to-noise ratio, and \n",
    "$\\frac{Tx}{Rx}$, the ratio of transmitters (e.g. cellphones) to receivers (e.g., base stations)\n",
    "in wireless networks. \n",
    "\n",
    "<img src=\"_static/problem_hardness_3d.png\" width=\"500\">\n",
    "\n",
    "The world's ubiquitous cellphones require huge numbers of base stations to provide \n",
    "its cellular networks; for example, in mid 2022, China's Ministry of Industry and Information \n",
    "Technology reported having deployed almost \n",
    "[2 million base stations](https://techblog.comsoc.org/2022/08/19/china-miit-claim-475m-5g-mobile-users-1-97m-5g-base-stations-at-end-of-july-2022/) \n",
    "for its 5G network alone.\n",
    "\n",
    "A paper, [[2]](#2), presented in [SIGCOMM](https://www.sigcomm.org/) 2019 states, \"For optimal \n",
    "performance, an amount of computation that increases at an exponential rate both with the \n",
    "number of users and with the data rate of each user is often required. The base station’s \n",
    "computational capacity is thus becoming one of the key limiting factors on wireless capacity.\" \n",
    "\n",
    "However, power consumption scales steeply with computation capacity (with the notable \n",
    "exception of quantum computers: an Advantage&#8482; requires just 25kW for its operation) and \n",
    "powering base stations has become \n",
    "[enormously challenging](https://techblog.comsoc.org/2020/08/07/5g-base-station-deployments-open-ran-competition-huge-5g-bs-power-problem/).  \n",
    "\n",
    "Profitability for network providers is now driven by seemingly conflicting imperatives: \n",
    "(1) reducing power consumption and (2) increasing processing capability.\n",
    "\n",
    "## What is Coordinated Multipoint?\n",
    "\n",
    "Shortly after the first generation of cellular networks were deployed it became clear that \n",
    "the naive model of pairing cellphones to a single nearby base station is inadequate. Many \n",
    "technologies have been developed to boost performance. \n",
    "[Cooperative MIMO](https://en.wikipedia.org/wiki/Cooperative_MIMO) (multiple-input multiple-output) \n",
    "effectively exploits the spatial domain of mobile fading channels to significantly improve \n",
    "performance. In one of its variations, coordinated multipoint (CoMP), neighboring base stations \n",
    "share data and channel state information to enable them to coordinate downlink transmissions \n",
    "and jointly process received signals.\n",
    "\n",
    "CoMP shifts processing from bases stations to a shared data center. This notebook\n",
    "explores the advantages of incorporating a quantum computer into such data centers for \n",
    "improving performance with reduced power consumption.\n",
    "\n",
    "## References\n",
    "\n",
    "<a name=\"2\">[2]</a> Toshiyuki Tanaka. \n",
    "A Statistical-Mechanics Approach to Large-System Analysis of CDMA Multiuser Detectors.\n",
    "IEEE TRANSACTIONS ON INFORMATION THEORY, VOL. 48, NO. 11, NOVEMBER 2002\n",
    "\n",
    "<a name=\"1\">[1]</a> Minsung Kim, Davide Venturelli, and Kyle Jamieson. \n",
    "Leveraging quantum annealing for large MIMO processing in centralized radio access networks.\n",
    "SIGCOMM '19: Proceedings of the ACM Special Interest Group on Data Communication, August 2019, Pages 241–255 \n",
    "https://dl.acm.org/doi/10.1145/3341302.3342072"
   ]
  },
  {
   "cell_type": "markdown",
   "id": "8a18b9c6",
   "metadata": {},
   "source": [
    "# Modeling a Network\n",
    "\n",
    "A cellular network can be modelled as a lattice, with some nodes representing the cellphones \n",
    "(transmitters, denoted here as $T_x$), others the base stations (receivers, $R_x$), and dges between\n",
    "$T_x$ and $R_x$ nodes model the transmission channels. In CoMP, edges between a cellphone and more \n",
    "than one base station are relevant: base stations can forward received signals, which have propagated \n",
    "through multiple channels with various noise, to be jointly processed. This aggregated processing \n",
    "reduces the bit error rate (BER) compared to decoding the cellphone's transmission over a single channel\n",
    "but requires more powerful computation. \n",
    "\n",
    "Increasing the number of $T_x$ nodes relative to $R_x$ nodes (the $\\frac{Tx}{Rx}$ ratio), raises \n",
    "the processing load, simulating base stations in densely populated areas with with many cellphones \n",
    "communicating simultaneously. Transmissions are simulated as random bit strings with amplitudes \n",
    "distorted by some random amount representing noise. \n",
    "\n",
    "This first code cell imports the functionality needed for the following sections. "
   ]
  },
  {
   "cell_type": "code",
   "execution_count": null,
   "id": "69183b1a-8ab9-4be5-911b-d122c08e0eb1",
   "metadata": {},
   "outputs": [],
   "source": [
    "# General Python packages\n",
    "import matplotlib.pyplot as plt\n",
    "import numpy as np\n",
    "\n",
    "# Ocean software packages\n",
    "import dimod\n",
    "from dwave.system import DWaveSampler, FixedEmbeddingComposite\n",
    "\n",
    "# Functions of this repository\n",
    "from helpers.draw import draw_loop_comparison, draw_network\n",
    "from helpers.filters import apply_filter, apply_filters, compare_signals, create_filter, create_filters, time_filter_instantiation\n",
    "from helpers.general import loop_comparisons\n",
    "from helpers.network import configure_network, create_channels, print_network_stats, simulate_signals\n",
    "\n",
    "# Enable graphics inline\n",
    "%matplotlib inline \n",
    "\n",
    "# Remove once dimod's mimo functions are updated\n",
    "import warnings\n",
    "warnings.filterwarnings('ignore')"
   ]
  },
  {
   "cell_type": "markdown",
   "id": "4c8ba226-8943-488b-ba70-384a0a1edd75",
   "metadata": {},
   "source": [
    "## Create a Network Graph\n",
    "\n",
    "The `configure_network` function in the code cell below returns a network based on a lattice \n",
    "that connects each node to its four nearest neighbors. $T_x$ and $R_x$ nodes alternate: \n",
    "most<sup>[1]</sup> cellphones can transmit to 4 base stations and base stations can receive signals from 4 \n",
    "cellphones. \n",
    "\n",
    "By default, the `configure_network` function returns a network based on a $45x45$ lattice with \n",
    "a ratio of $\\frac{Tx}{Rx} \\approx 1.5$, achieved by randomly \"turning off\" some number of base stations. \n",
    "For visual clarity, this first section starts with a network based on a 12x12 lattice by setting \n",
    "`network_size=5` (for $n=5$, lattice length is given by $3(n-1)=12$ ).\n",
    "\n",
    "<sup>[1]<sub>With the exception of nodes on the lattice boundaries.</sub></sup>\n",
    "\n",
    "The `draw_network` function colors transmitters in red and receivers in green. "
   ]
  },
  {
   "cell_type": "code",
   "execution_count": null,
   "id": "dccf0add-a7c5-4201-9e04-b67ca78494e1",
   "metadata": {},
   "outputs": [],
   "source": [
    "network, _ = configure_network(network_size=5)\n",
    "\n",
    "print_network_stats(network)\n",
    "draw_network(network)"
   ]
  },
  {
   "cell_type": "markdown",
   "id": "496c12f4-636a-4814-80ac-673fcb4078be",
   "metadata": {},
   "source": [
    "## Create Channels\n",
    "\n",
    "Next, simulate the channels between transmitters and receivers. \n",
    "\n",
    "By default, the `create_channels` function below returns channels generated from a binary, \n",
    "real distribution that represents \n",
    "[inter-symbol interference (ISI)](https://en.wikipedia.org/wiki/Intersymbol_interference), meaning that \n",
    "in the signal a base station receives, each element of the transmission sequence might be constituted of the \n",
    "different trqnsmitted symbols of more than one cellphone."
   ]
  },
  {
   "cell_type": "code",
   "execution_count": null,
   "id": "5f7b9bf5-a740-459c-8b08-a3e47bc3084f",
   "metadata": {},
   "outputs": [],
   "source": [
    "channels, channel_power = create_channels(network)\n",
    "print(f\"Channels are represented by a {channels.shape[0]}x{channels.shape[1]} matrix.\")"
   ]
  },
  {
   "cell_type": "markdown",
   "id": "4322f26a-edd5-40a8-9230-d81b1ec31e6d",
   "metadata": {},
   "source": [
    "# Decoding Transmissions: Classical Resources\n",
    "\n",
    "To distinguish between the transmitted signals from multiple cellphones, and from noise injected \n",
    "into the transmissions by the environment, base stations standardly process (decode) received \n",
    "transmissions with one of the following linear filters:\n",
    "\n",
    "* [Matched filter](https://en.wikipedia.org/wiki/Matched_filter) is the optimal linear filter \n",
    "    for maximizing signal-to-noise ratio (SNR) of channels modelled as having additive stochastic \n",
    "    noise. It uses the technique of [convolution](https://en.wikipedia.org/wiki/Convolution) with a \n",
    "    conjugated time-reversed signal template.\n",
    "* [Zero forcing](https://en.wikipedia.org/wiki/Zero-forcing_precoding) applies the inverse of the \n",
    "    channel frequency response to the received signal to restore the pre-transmission signal.\n",
    "* [Minimum mean squared error (MMSE)](https://en.wikipedia.org/wiki/Minimum_mean_square_error) \n",
    "    minimizes the mean square error (MSE) between the transmitted and the received signal to \n",
    "    mitigate effects of ISI and noise. \n",
    "\n",
    "## Create Filters\n",
    "\n",
    "The `create_filters` function below instantiates all three linear filters described above.\n",
    "\n",
    "<div class=\"alert alert-warning\" role=\"alert\" style=\"margin: 10px\">Note: Linear filters \n",
    "are instantiated for the channels they are intended to decode and such are short-lived. \n",
    "The importance of this is demonstrated in the following sections.</div>"
   ]
  },
  {
   "cell_type": "code",
   "execution_count": null,
   "id": "fbe22614-5a09-4038-a134-fcd87b44d126",
   "metadata": {},
   "outputs": [],
   "source": [
    "filters = create_filters(channels)\n",
    "print(f\"Created filters: {list(filters.keys())}.\")"
   ]
  },
  {
   "cell_type": "markdown",
   "id": "ad2cd3be-d5a9-40b5-b7e4-65588353b0cc",
   "metadata": {},
   "source": [
    "## Simulate Transmissions\n",
    "\n",
    "Cellular and wireless networks standardly use quadrature amplitude modulation (QAM) to encode \n",
    "transmissions. \n",
    "\n",
    "<img src=\"_static/qam.png\" width=\"600\">\n",
    "\n",
    "Typically used encodings include:\n",
    "\n",
    "* BPSK: Binary Phase Shift Keying. Transmission symbols are the real values $+1, -1$.\n",
    "* QPSK: Quadrature Phase Shift Keying. Transmission symbols are the complex values\n",
    "    $1+1j, 1-1j, -1+1j, -1-1j$ (normalized by $\\frac{1}{\\sqrt{2}}$). \n",
    "* 16-QAM: 16 complex-valued QPSK symbols modulated by either 1 or 3.\n",
    "* 64-QAM and 256-QAM Scale up 16-QAM.\n",
    "\n",
    "By default, the `simulate_signals` function below generates BPSK signals. In this code cell, \n",
    "`transmitted_symbols` is a sequence of BPSK symbols selected from a uniform\n",
    "random distribution and `y` the signal received by the base stations, the result of \n",
    "the instantiated channels acting upon the transmitted signal. "
   ]
  },
  {
   "cell_type": "code",
   "execution_count": null,
   "id": "963ab32e-8323-42ea-b001-30dae43dd11f",
   "metadata": {},
   "outputs": [],
   "source": [
    "y, transmitted_symbols = simulate_signals(channels, channel_power)                 \n",
    "print(f\"First 10 transmitted symbols: {transmitted_symbols.flatten()[:10]}. \\nFirst 10 received symbols: {y.flatten()[:10]}.\")"
   ]
  },
  {
   "cell_type": "markdown",
   "id": "c6dc5d18-110c-4ffb-9bad-48b17eda7fa4",
   "metadata": {},
   "source": [
    "## Decode Received Signals\n",
    "\n",
    "Use the `apply_filters` function below to decode the signal received by the network's base stations\n",
    "with each of the three linear filters. The `compare_signals` function then performs a bit-by-bit \n",
    "comparison between the received signal and the symbols transmitted by the network's cellphones."
   ]
  },
  {
   "cell_type": "code",
   "execution_count": null,
   "id": "38b7daba-1e8c-4bff-b3f9-d14d5a91f229",
   "metadata": {},
   "outputs": [],
   "source": [
    "v = apply_filters(y, filters)\n",
    "compare_signals(v, transmitted_symbols)"
   ]
  },
  {
   "cell_type": "markdown",
   "id": "d21ce821-e164-491f-8bd7-9952229e5294",
   "metadata": {},
   "source": [
    "The operations of this section do **not** account for two significant factors of real-world networks:\n",
    "\n",
    "1. Cellular networks impose strict constraints on processing time.\n",
    "2. In addition to the ISI represented by the simulated channel above, wireless environments are noisy. \n",
    "   The `simulate_signals` function can represent real wireless channels by adding random normal noise \n",
    "   to the transmitted symbols.\n",
    "\n",
    "The following sections take these factors into consideration."
   ]
  },
  {
   "cell_type": "markdown",
   "id": "65714077-8387-4498-87a0-9abc76ed3dbc",
   "metadata": {},
   "source": [
    "# Scaling Up\n",
    "\n",
    "In real-world networks, processing time is crucial: base stations or shared data centers must \n",
    "decode any received transmission frames (a defined number of sequential transmitted symbols) \n",
    "and return acknowledgements within a prescribed amount of time. For Wi-Fi networks, \n",
    "this imposes a hard requirement on processing time of tens of microseconds. In newer cellphone \n",
    "networks such as 4G LTE, receivers must process transmissions with similar speed due to \n",
    "redundancy schemes. \n",
    "\n",
    "Consequently, networks adopt processing algorithms such as linear filters that meet the speed \n",
    "requirements, even if performance is suboptimal.\n",
    "\n",
    "As noted above, linear filters are adapted specifically for the instantiated channels; in network\n",
    "terms, the filter's parameters are calibrated to the currently existing channels as periodically \n",
    "measured by having the network transmit a known pilot signal. The lifetime of such channels is \n",
    "tens of milliseconds. As a result, networks use filters that can be instantiated/calibrated fast. \n",
    "\n",
    "The `time_filter_instantiation` function below measures instantiation times for each of the three\n",
    "linear filters for a few different sizes of networks. Any instantiation times greater than half a \n",
    "second (500 milliseconds) are highlighted in red in the output. \n",
    "\n",
    "A more detailed comparison is given in the [Technical Supplement](#Technical-Supplement) section below."
   ]
  },
  {
   "cell_type": "code",
   "execution_count": null,
   "id": "bec5f987-df91-427c-8db3-b4a89f1ce1e4",
   "metadata": {},
   "outputs": [],
   "source": [
    "time_filter_instantiation(network_sizes=[5, 10, 15])"
   ]
  },
  {
   "cell_type": "markdown",
   "id": "6de8f542-6c50-4a87-a75f-b7a636c95244",
   "metadata": {},
   "source": [
    "The matched-filter algorithm scales up well and can be used in large wireless networks.\n",
    "The other two filters require a time-consuming mathematical operation, matrix inversion. \n",
    "Matrix inversion is slow even on GPUs and does not parallelize well. \n",
    "\n",
    "In the following sections, which demonstrate operations on networks of size 16, only the \n",
    "matched filter algorithm is used.\n",
    "\n",
    "# Decoding Transmissions: Quantum Resources\n",
    "\n",
    "This section demonstrates using a quantum computer to decode wireless transmissions. \n",
    "\n",
    "First, select a quantum computer using [Ocean](https://docs.ocean.dwavesys.com/en/stable/index.html) \n",
    "software's [DWaveSampler](https://docs.ocean.dwavesys.com/en/stable/docs_system/reference/samplers.html)\n",
    "class.\n",
    "\n",
    "By default, the quantum processing unit (QPU) with the greatest number of available qubits is selected.\n",
    "As of August 2023, that quantum computer is bound to be an Advantage, which is based on the \n",
    "[Pegasus topology](https://docs.dwavesys.com/docs/latest/c_gs_4.html). Although unnecessary, the \n",
    "preferred topology is explicitly called as a parameter below to highlight that the code used in \n",
    "the following sections was adapted for it. For further information, see the \n",
    "[Technical Supplement](#Technical-Supplement) section below.\n"
   ]
  },
  {
   "cell_type": "code",
   "execution_count": null,
   "id": "ce59a07c-acef-4c17-8551-6078377b3a3a",
   "metadata": {},
   "outputs": [],
   "source": [
    "qpu = DWaveSampler(solver=dict(topology__type=\"pegasus\"))\n",
    "\n",
    "print(f\"Selected {qpu.solver.name} with {len(qpu.nodelist)} qubits.\")"
   ]
  },
  {
   "cell_type": "markdown",
   "id": "859fa35d-f813-4836-81ba-190c4f48bc8d",
   "metadata": {},
   "source": [
    "## BQM Representation (Small-Town Problem)\n",
    "\n",
    "Any problem to be solved on a quantum computer \n",
    "[must be expressed](https://docs.dwavesys.com/docs/latest/c_gs_workflow.html) as a \n",
    "binary quadratic model (BQM). \n",
    "\n",
    "This section demonstrates the following operations: \n",
    "\n",
    "* Create a network model that can be represented on the selected QPU.\n",
    "* Simulate a **noisy** transmission and decode it using the matched-filter algorithm.\n",
    "* Create a BQM representing the decoding problem as solve it on the selected quantum computer.\n",
    "\n",
    "### Create a Network, Filter, and Transmission\n",
    "\n",
    "First, repeat the operations already done in the previous section but now using parameters \n",
    "`qpu` and `SNRb` as follows:\n",
    "\n",
    "* `SNRb` sets the level of noise the `simulate_signals` function adds to the received signal, `y`.\n",
    "* `qpu` gives the `configure_network` function access to the selected QPU's\n",
    "    [working graph](https://docs.dwavesys.com/docs/latest/c_gs_4.html#the-working-graph). The function\n",
    "    uses it to generate the returned `embedding` variable, which is needed in the \n",
    "    [Decode Received Signals](#Decode-Received-Signals) subsection below. \n",
    "\n",
    "For comparison, also decode the transmission with a matched filter. "
   ]
  },
  {
   "cell_type": "code",
   "execution_count": null,
   "id": "ba888aa9-0502-462c-84ec-c0818c9c901a",
   "metadata": {},
   "outputs": [],
   "source": [
    "SNRb = 10\n",
    "\n",
    "# Create a model network\n",
    "network, embedding = configure_network(network_size=16, qpu=qpu)\n",
    "print_network_stats(network)\n",
    "\n",
    "# Model the channel used for a particular transmission interval\n",
    "channels, channel_power =  create_channels(network)\n",
    "\n",
    "# Instantiate a matched filter for the transmission interval\n",
    "filter_mf = create_filter(channels, method='matched_filter')\n",
    "y, transmitted_symbols = simulate_signals(channels, channel_power, SNRb=SNRb)  \n",
    "\n",
    "# Decode the transmission with the linear filter and compare to the original transmitted symbols\n",
    "v = apply_filter(filter_mf, y) \n",
    "compare_signals(v, transmitted_symbols)"
   ]
  },
  {
   "cell_type": "markdown",
   "id": "e648574b-42a3-43aa-9580-5b95ea72660e",
   "metadata": {},
   "source": [
    "### Create a BQM\n",
    "\n",
    "Ocean's [dimod](https://docs.ocean.dwavesys.com/en/stable/docs_dimod/sdk_index.html) package\n",
    "provides [generators](https://docs.ocean.dwavesys.com/en/stable/docs_dimod/reference/generators.html) \n",
    "for various common problems. Below, use the `spin_encoded_comp` generator to translate the network \n",
    "problem into a BQM."
   ]
  },
  {
   "cell_type": "code",
   "execution_count": null,
   "id": "66864661-740e-4a10-b3b2-0759396679e4",
   "metadata": {},
   "outputs": [],
   "source": [
    "bqm = dimod.generators.mimo.spin_encoded_comp(network, \n",
    "                                              modulation='BPSK',\n",
    "                                              F_distribution=('binary','real'), \n",
    "                                              F=channels,\n",
    "                                              y=y)\n",
    "\n",
    "print(f\"BQM has {len(bqm)} variables with {len(bqm.quadratic)} quadratic interactions.\")"
   ]
  },
  {
   "cell_type": "markdown",
   "id": "c118d36c-d269-45f5-b49e-4595cc4c7a28",
   "metadata": {},
   "source": [
    "### Decode Received Signals\n",
    "\n",
    "Use the selected quantum computer to decode the transmission.\n",
    "\n",
    "Ocean software's \n",
    "[FixedEmbeddingComposite](https://docs.ocean.dwavesys.com/en/stable/docs_system/reference/composites.html#fixedembeddingcomposite)\n",
    "handles the mapping between the problem's variables, $T_x$ nodes of the network, and the QPU's\n",
    "qubits, using the `embedding` variable found above as the \n",
    "[minor-embedding](https://docs.dwavesys.com/docs/latest/c_gs_7.html). \n",
    "\n",
    "more information about the minor-embedding and the QPU's parameters is given in the \n",
    "[Technical Supplement](#Technical-Supplement) section below. "
   ]
  },
  {
   "cell_type": "code",
   "execution_count": null,
   "id": "e4e68908-80e4-4819-861f-cee2f31b6d1d",
   "metadata": {},
   "outputs": [],
   "source": [
    "sampler = FixedEmbeddingComposite(qpu, embedding)\n",
    "\n",
    "sampleset = sampler.sample(bqm, \n",
    "                           num_reads=30, \n",
    "                           annealing_time=200, \n",
    "                           chain_strength=-0.13*min(bqm.linear.values()),\n",
    "                           label='Notebook - Coordinated Multipoint')\n",
    "\n",
    "compare_signals(sampleset, transmitted_symbols)"
   ]
  },
  {
   "cell_type": "markdown",
   "id": "d5bd407a-a4c6-4ab8-a3fb-f536280edf91",
   "metadata": {},
   "source": [
    "## Big-City Problems\n",
    "\n",
    "Problems become harder[[2]](#2) as a function of channel noise and base-station load. \n",
    "The graphic below shows the bit error rate (BER) as a function of SNRb and $\\frac{Tx}{Rx}$ \n",
    "for a large network (`network_size=16`). Each data point is the median of ten problems \n",
    "solved by running simulated annealing for hundreds of times longer than the network-driven \n",
    "runtimes used in this notebook (around 10 seconds versus 30 milliseconds used to demonstrate \n",
    "decoding in real wireless networks).\n",
    "\n",
    "<img src=\"_static/problem_hardness.png\" width=\"800\">\n",
    "\n",
    "One sees, for example, that for SNRb of 5 and $\\frac{Tx}{Rx}=1.5$, the expected BER approaches \n",
    "10%. For problems with parameters above these BER lines, the BQM energy can be lowest (or the \n",
    "maximum likelihood greatest) for solutions that do **not** match the transmission.   \n",
    "\n",
    "By default, the `loop_comparisons` function below sets `network_size=16`, SNRb to 5 and the $\\frac{Tx}{Rx}$ \n",
    "ratio to 1.5. The next cell runs `runs` number of problems. "
   ]
  },
  {
   "cell_type": "code",
   "execution_count": null,
   "id": "cfffa401-a536-4ab0-b392-b5b54dcde39a",
   "metadata": {},
   "outputs": [],
   "source": [
    "results = loop_comparisons(runs=10, qpu=qpu)\n",
    "medians = {filter: np.median(val) for filter, val in results.items()}\n",
    "\n",
    "for solver in medians:\n",
    "    print(f'\\t * Median success rate for {solver}: {medians[solver]}.')\n",
    "\n",
    "draw_loop_comparison(results)"
   ]
  },
  {
   "cell_type": "markdown",
   "id": "8df68e7b-f621-4a81-8da2-9bdef2f556d1",
   "metadata": {},
   "source": [
    "### Rough-Neighborhood Problems\n",
    "\n",
    "For completeness, this subsection demonstrates a particularly hard problem by setting very high \n",
    "values of noise and load. You can configure and run for your own preferred values of `SNR` and \n",
    "`tx_to_rx` below."
   ]
  },
  {
   "cell_type": "code",
   "execution_count": null,
   "id": "dc13801e-4976-4a6e-b1d7-20d6d5d6c75c",
   "metadata": {},
   "outputs": [],
   "source": [
    "SNRb = 4.5\n",
    "tx_to_rx = 1.65\n",
    "\n",
    "\n",
    "results = loop_comparisons(runs=5, qpu=qpu, snr=SNRb, ratio=tx_to_rx)\n",
    "medians = {filter: np.median(val) for filter, val in results.items()}\n",
    "\n",
    "for solver in medians:\n",
    "    print(f'\\t * Median success rate for {solver}: {medians[solver]}.')\n",
    "\n",
    "draw_loop_comparison(results, SNRb=SNRb, ratio=tx_to_rx)"
   ]
  },
  {
   "cell_type": "markdown",
   "id": "cf07f63a-feaf-44c3-9347-df8c34f30ba6",
   "metadata": {},
   "source": [
    "# Technical Supplement\n",
    "\n",
    "This section provides more technical details on some of the topics demonstrated above."
   ]
  },
  {
   "cell_type": "markdown",
   "id": "82717b9f-2f7a-47c5-b3ad-78bf7c035f3c",
   "metadata": {},
   "source": [
    "## Performance of Matrix-Inverting Filters "
   ]
  },
  {
   "cell_type": "markdown",
   "id": "60f8f280-311e-4536-a2ee-e2398875169e",
   "metadata": {},
   "source": [
    "Processing time in real-world networks is crucial: base stations or shared data centers must \n",
    "decode transmissions in tens of microseconds. \n",
    "\n",
    "As demonstrated above, the matched-filter algorithm scales up well and can be used in large wireless networks.\n",
    "The other two filters require a time-consuming mathematical operation, matrix inversion, which is slow even on \n",
    "GPUs and does not parallelize well. \n",
    "\n",
    "For a range of network sizes, the following plot shows:\n",
    "\n",
    "* Decoding success rate (left). Each data point is the median of ten problems with SNRb of 5 and $\\frac{Tx}{Rx}=1.5$. \n",
    "* Instantiation time (right). Times were measure on a 10-core i5 Intel processor operating at 1600 Mhz.  \n",
    "\n",
    "<img src=\"_static/all_matched_filters_performance.png\" width=\"800\">\n",
    "\n",
    "Instantiation times that exceed a second, as they do for the matrix-inverting filters, preclude their usage\n",
    "in processing above certain scales. "
   ]
  },
  {
   "cell_type": "markdown",
   "id": "3999f691-7bd1-4984-bf32-a9aa3a5dd0bb",
   "metadata": {},
   "source": [
    "## Comparison to Simulated Annealing\n",
    "\n",
    "[Simulated annealing](https://en.wikipedia.org/wiki/Simulated_annealing) is a powerful heuristic\n",
    "that dominates the space of general solvers. For many problems it is considered the benchmark \n",
    "for performance.\n",
    "\n",
    "Like the matrix inversion required to instantiate the zero-forcing and MMSE linear filters, \n",
    "simulated annealing is computationally demanding: it requires a strong processor with high \n",
    "power consumption. \n",
    "\n",
    "For the comparisons of this subsection, assume that an algorithm running on a CPU requires \n",
    "10e-8 seconds per variable update: a network of size 16 has about 2000 variables ($T_x$ nodes),\n",
    "so each sweep of simulated annealing takes around 200 microseconds. To compare performance to the QPU with \n",
    "its access time of about 30 milliseconds, the `loop_comparisons` function runs simulated annealing \n",
    "for 150 sweeps. By default, it runs on a network of size 16 with SNRb  of 5 and  $\\frac{Tx}{Rx}=1.5$."
   ]
  },
  {
   "cell_type": "code",
   "execution_count": null,
   "id": "0e04052e-4a1b-4383-a7d1-ee3861122a77",
   "metadata": {},
   "outputs": [],
   "source": [
    "results = loop_comparisons(runs=5, qpu=qpu, solvers=['SA'])\n",
    "medians = {filter: np.median(val) for filter, val in results.items()}\n",
    "\n",
    "for solver in medians:\n",
    "    print(f'\\t * Median success rate for {solver}: {medians[solver]}.')\n",
    "\n",
    "draw_loop_comparison(results)"
   ]
  },
  {
   "cell_type": "markdown",
   "id": "96c19e09-d39a-4cb2-ad4d-e128b4a9af54",
   "metadata": {},
   "source": [
    "## Comparison to Other Classical Algorithms\n",
    "\n",
    "For completeness, this subsection demonstrates comparisons to additional algorithms standardly used\n",
    "to solve hard problems:\n",
    "\n",
    "* [Steepest Descent](https://docs.ocean.dwavesys.com/en/stable/docs_samplers/index.html#steepest-descent) \n",
    "    a discrete analogue of the [gradient descent](https://en.wikipedia.org/wiki/Gradient_descent) technique.\n",
    "* [Tabu](https://docs.ocean.dwavesys.com/en/stable/docs_samplers/index.html#tabu) a heuristic that employs \n",
    "    local search with methods to escape local minima.\n",
    "\n",
    "Like simulated annealing, both are computationally demanding.  "
   ]
  },
  {
   "cell_type": "code",
   "execution_count": null,
   "id": "55c8d2bd-6539-44e0-b24c-a55fe8f51ffd",
   "metadata": {},
   "outputs": [],
   "source": [
    "results = loop_comparisons(runs=5, qpu=qpu, solvers=['greedy', 'tabu'])\n",
    "medians = {filter: np.median(val) for filter, val in results.items()}\n",
    "\n",
    "for solver in medians:\n",
    "    print(f'\\t * Median success rate for {solver}: {medians[solver]}.')\n",
    "\n",
    "draw_loop_comparison(results)"
   ]
  },
  {
   "cell_type": "markdown",
   "id": "cd12b618",
   "metadata": {},
   "source": [
    "### Preprocessing Performance\n",
    "\n",
    "For completeness, this subsection also looks at the performance of \n",
    "[preprocessing](https://en.wikipedia.org/wiki/Data_Preprocessing). For some classes of problems,\n",
    "a short period of preprocessing prior to running a solver can result in improved solutions and \n",
    "runtimes. \n",
    "\n",
    "The plot below shows the use of \n",
    "[roof duality](https://docs.ocean.dwavesys.com/en/stable/docs_preprocessing/reference/composites.html#fix-variables-composite)\n",
    "to fix variables before applying a tabu sampler. Each point on the plot represents the median of \n",
    "20 problems. \n",
    "\n",
    "<img src=\"_static/preprocessing.png\" width=\"700\">\n",
    "\n",
    "One sees that as problems harden---size and $\\frac{T_x}{R_x}$ increase and SNRb decreases---preprocessing \n",
    "loses effectiveness."
   ]
  },
  {
   "cell_type": "markdown",
   "id": "3e124779",
   "metadata": {},
   "source": [
    "## Configuring Optimal QPU Parameters"
   ]
  },
  {
   "cell_type": "markdown",
   "id": "eafdbd72-2b04-4500-b33c-b5e016029b79",
   "metadata": {},
   "source": [
    "Ocean software selects reasonable default parameters when submitting problems to the \n",
    "quantum computer. However, when performance in crucial, as in these problems, where \n",
    "differences of a percent matter, it is important to configure the QPU with optimal \n",
    "parameter values. D-Wave's [system documentation](https://docs.dwavesys.com/docs/latest/doc_handbook.html)  \n",
    "provides guidance on optimizing QPU use.\n",
    "\n",
    "Here, two non-default parameters are used:\n",
    "\n",
    "* [annealing_time](https://docs.dwavesys.com/docs/latest/c_solver_parameters.html#annealing-time) sets \n",
    "    the duration, in microseconds, of quantum annealing time, per read. \n",
    "\n",
    "    For time-critical problems, rather than use the default 20 microseconds with a large \n",
    "    number of reads, a good rule of thumb is to balance the programming and sampling times \n",
    "    in the overall [QPU access time](https://docs.dwavesys.com/docs/latest/c_qpu_timing.html#qpu-access-time).\n",
    "    Using the QPU access time \n",
    "    [estimation](https://docs.dwavesys.com/docs/latest/c_qpu_timing.html#estimating-access-time) algorithm \n",
    "    and tool provided in Ocean produces an optimal annealing time of just over 200 microseconds for \n",
    "    most the problems in this example.\n",
    "     \n",
    "* [Chain strength](https://docs.ocean.dwavesys.com/en/stable/docs_system/reference/generated/dwave.system.composites.FixedEmbeddingComposite.sample.html)\n",
    "    sets the coupling strength between qubits that form a \n",
    "    [chain](https://docs.dwavesys.com/docs/latest/c_gs_7.html#chains). \n",
    "\n",
    "    For most problems, the default \n",
    "    [chain-strength calculation](https://docs.ocean.dwavesys.com/en/stable/docs_system/reference/generated/dwave.embedding.chain_strength.uniform_torque_compensation.html)\n",
    "    produces decent results. For this problem, however, it does not.\n",
    "\n",
    "    The following plot shows the bit error rate (BER) and the fraction of broken chains for a range\n",
    "    of chain strengths, calculated as `-cs_multiplier*min(bqm.linear.values())`, where `cs_multiplier` \n",
    "    is a multiplier of the most negative value of $h_i$, the linear coefficients of the BQM. Each data \n",
    "    point is the median of twenty problems with SNRb of 5 and $\\frac{Tx}{Rx}=1.5$ for a large network (`network_size=16`). \n",
    "\n",
    "    An optimal chain strength for the network problems is around $-0.13\\min{h_i}$.\n",
    "\n",
    "<img src=\"_static/chain_strength.png\" width=\"700\">"
   ]
  },
  {
   "cell_type": "markdown",
   "id": "d2a26d8e-a781-4fad-a93e-d9b7442d9782",
   "metadata": {},
   "source": [
    "## Minor Embedding\n",
    "\n",
    "For most problems submitted directly to the QPU, mapping between the problem's variables and \n",
    "QPU qubits is heuristic, automated by such tools as Ocean's \n",
    "[minorminer](https://docs.ocean.dwavesys.com/en/stable/docs_minorminer/source/sdk_index.html) \n",
    "package. \n",
    "\n",
    "Although that package also provides algorithms for minor-embedding graphs with regularities, \n",
    "one can produce more efficient embeddings by tiling an optimal cell embedding across the full\n",
    "graph. However, because the \n",
    "QPU [working graph](https://docs.dwavesys.com/docs/latest/c_gs_4.html#the-working-graph) \n",
    "can contain defects due to some small number of qubits and couplers being removed for failing \n",
    "to meet the specifications to function as desired, one needs to shift the mapping around those. \n",
    "The `configure_network` function handles this.\n",
    "\n",
    "The graphic below shows how a small network graph (`network_size=4`) is minor-embedded into the \n",
    "selected QPU's working graph. \n",
    "\n",
    "Colored dots are qubits: note that pairs of identically-colored dots, such as the blue, green, and red pairs on the top row, represent a single node of the logical network. "
   ]
  },
  {
   "cell_type": "markdown",
   "id": "33dc11c9-c0d7-429b-8ef1-daedd9a29fa4",
   "metadata": {},
   "source": [
    "<img src=\"_static/embedding_lattice4.png\" width=\"700\">\n"
   ]
  },
  {
   "cell_type": "markdown",
   "id": "e9481773-0fa3-4602-bbd0-a631b81378c8",
   "metadata": {},
   "source": [
    "## Advantage2: Boosting Performance "
   ]
  },
  {
   "cell_type": "code",
   "execution_count": null,
   "id": "9d6939ca-5592-4191-99a7-fa8ca775bf35",
   "metadata": {},
   "outputs": [],
   "source": []
  }
 ],
 "metadata": {
  "kernelspec": {
   "display_name": "Python 3 (ipykernel)",
   "language": "python",
   "name": "python3"
  },
  "language_info": {
   "codemirror_mode": {
    "name": "ipython",
    "version": 3
   },
   "file_extension": ".py",
   "mimetype": "text/x-python",
   "name": "python",
   "nbconvert_exporter": "python",
   "pygments_lexer": "ipython3",
   "version": "3.10.2"
  }
 },
 "nbformat": 4,
 "nbformat_minor": 5
}
