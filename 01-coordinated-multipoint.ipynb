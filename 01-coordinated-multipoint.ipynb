{
 "cells": [
  {
   "cell_type": "markdown",
   "id": "1fb80853-cf2f-4519-aa48-d4dd14ee9d5d",
   "metadata": {},
   "source": [
    "# Coordinated Multipoint Using a Quantum Computer\n",
    "This notebook demonstrates"
   ]
  },
  {
   "cell_type": "markdown",
   "id": "079524af",
   "metadata": {},
   "source": [
    "# What is Coordinated Multipoint?\n",
    "\n",
    "TBD: add description, papers, etc"
   ]
  },
  {
   "cell_type": "markdown",
   "id": "8a18b9c6",
   "metadata": {},
   "source": [
    "# Modeling a Network\n",
    "\n",
    "TBD: explain the King's graph-based network model"
   ]
  },
  {
   "cell_type": "code",
   "execution_count": null,
   "id": "dccf0add-a7c5-4201-9e04-b67ca78494e1",
   "metadata": {
    "vscode": {
     "languageId": "plaintext"
    }
   },
   "outputs": [],
   "source": [
    "# This code imports from \"helpers\", a folder colocated with this Jupyter Notebook.\n",
    "from helpers.network import create_lattice, configure_network\n",
    "\n",
    "lattice_size = 3"
   ]
  },
  {
   "cell_type": "code",
   "execution_count": null,
   "id": "96e046b8-8c3d-4d97-a8d7-d0278c323bab",
   "metadata": {
    "vscode": {
     "languageId": "plaintext"
    }
   },
   "outputs": [],
   "source": [
    "emb, source, props = create_lattice(lattice_size=4)\n",
    "print(props)"
   ]
  },
  {
   "cell_type": "code",
   "execution_count": null,
   "id": "41722cea-83ac-4e11-83b1-2d61d1f2abf2",
   "metadata": {
    "scrolled": true
   },
   "outputs": [],
   "source": [
    "import networkx as nx\n",
    "import matplotlib.pyplot as plt\n",
    "\n",
    "%matplotlib inline     \n",
    "nx.draw_networkx(source, pos={n: n for n in source.nodes()}, with_labels=False, node_size=25)\n",
    "plt.show()"
   ]
  },
  {
   "cell_type": "code",
   "execution_count": null,
   "id": "715b9629-39ac-4dde-baa8-085b293a3c9d",
   "metadata": {},
   "outputs": [],
   "source": [
    "transmission_graph, tx_over_rx = configure_network(source, ratio=0.75)\n",
    "print(tx_over_rx)"
   ]
  },
  {
   "cell_type": "code",
   "execution_count": null,
   "id": "a26847c7-94b9-401c-920d-e4a3f9b60a06",
   "metadata": {},
   "outputs": [],
   "source": [
    "has_t = nx.get_node_attributes(transmission_graph, 'num_transmitters')\n",
    "has_r = nx.get_node_attributes(transmission_graph, 'num_receivers')\n",
    "nx.draw_networkx(transmission_graph, pos={n: n for n in transmission_graph.nodes()}, node_color = ['r' if has_t[n] else 'g' if has_r[n] else 'y' for n in transmission_graph.nodes()], with_labels=False, node_size=50)\n",
    "plt.show()"
   ]
  },
  {
   "cell_type": "markdown",
   "id": "4322f26a-edd5-40a8-9230-d81b1ec31e6d",
   "metadata": {},
   "source": [
    "# Decoding Signals\n",
    "\n",
    "TBD: explain linear filters"
   ]
  },
  {
   "cell_type": "code",
   "execution_count": null,
   "id": "bae5891c-2142-43ac-b096-d6a36ce2a874",
   "metadata": {},
   "outputs": [],
   "source": []
  }
 ],
 "metadata": {
  "kernelspec": {
   "display_name": "Python 3 (ipykernel)",
   "language": "python",
   "name": "python3"
  },
  "language_info": {
   "codemirror_mode": {
    "name": "ipython",
    "version": 3
   },
   "file_extension": ".py",
   "mimetype": "text/x-python",
   "name": "python",
   "nbconvert_exporter": "python",
   "pygments_lexer": "ipython3",
   "version": "3.10.2"
  }
 },
 "nbformat": 4,
 "nbformat_minor": 5
}
