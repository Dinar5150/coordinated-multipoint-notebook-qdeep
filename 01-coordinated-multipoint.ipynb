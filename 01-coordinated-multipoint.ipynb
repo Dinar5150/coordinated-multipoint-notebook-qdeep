{
 "cells": [
  {
   "cell_type": "markdown",
   "id": "1fb80853-cf2f-4519-aa48-d4dd14ee9d5d",
   "metadata": {},
   "source": [
    "# Coordinated Multipoint Using a Quantum Computer\n",
    "This notebook demonstrates"
   ]
  },
  {
   "cell_type": "markdown",
   "id": "079524af",
   "metadata": {},
   "source": [
    "# What is Coordinated Multipoint?\n",
    "\n",
    "TBD: add description, papers, etc"
   ]
  },
  {
   "cell_type": "markdown",
   "id": "8a18b9c6",
   "metadata": {},
   "source": [
    "# Modeling a Network\n",
    "\n",
    "TBD: explain the King's graph-based network model"
   ]
  },
  {
   "cell_type": "code",
   "execution_count": null,
   "id": "dccf0add-a7c5-4201-9e04-b67ca78494e1",
   "metadata": {
    "vscode": {
     "languageId": "plaintext"
    }
   },
   "outputs": [],
   "source": [
    "# This code imports from \"helpers\", a folder colocated with this Jupyter Notebook.\n",
    "from helpers.network import configure_network\n",
    "\n",
    "network, tx_over_rx, _, props = configure_network(lattice_size=3, ratio=0.75)\n",
    "print(f\"Graph stats: {props} \\n Ratio: {tx_over_rx}\")"
   ]
  },
  {
   "cell_type": "code",
   "execution_count": null,
   "id": "41722cea-83ac-4e11-83b1-2d61d1f2abf2",
   "metadata": {
    "scrolled": true
   },
   "outputs": [],
   "source": [
    "import matplotlib.pyplot as plt\n",
    "from helpers.draw import draw_network\n",
    "%matplotlib inline     \n",
    "\n",
    "\n",
    "draw_network(network)"
   ]
  },
  {
   "cell_type": "markdown",
   "id": "4322f26a-edd5-40a8-9230-d81b1ec31e6d",
   "metadata": {},
   "source": [
    "# Decoding Signals\n",
    "\n",
    "TBD: explain linear filters"
   ]
  },
  {
   "cell_type": "code",
   "execution_count": null,
   "id": "bae5891c-2142-43ac-b096-d6a36ce2a874",
   "metadata": {},
   "outputs": [],
   "source": []
  }
 ],
 "metadata": {
  "kernelspec": {
   "display_name": "Python 3 (ipykernel)",
   "language": "python",
   "name": "python3"
  },
  "language_info": {
   "codemirror_mode": {
    "name": "ipython",
    "version": 3
   },
   "file_extension": ".py",
   "mimetype": "text/x-python",
   "name": "python",
   "nbconvert_exporter": "python",
   "pygments_lexer": "ipython3",
   "version": "3.10.2"
  }
 },
 "nbformat": 4,
 "nbformat_minor": 5
}
