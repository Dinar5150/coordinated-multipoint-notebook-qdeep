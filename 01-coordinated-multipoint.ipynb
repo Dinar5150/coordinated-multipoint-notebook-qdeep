{
 "cells": [
  {
   "cell_type": "markdown",
   "id": "1fb80853-cf2f-4519-aa48-d4dd14ee9d5d",
   "metadata": {},
   "source": [
    "# Decoding Cellphone Signals with a Quantum Computer\n",
    "This notebook demonstrates"
   ]
  },
  {
   "cell_type": "markdown",
   "id": "079524af",
   "metadata": {},
   "source": [
    "## What is Coordinated Multipoint?\n",
    "\n",
    "TBD: add description, papers, etc"
   ]
  },
  {
   "cell_type": "markdown",
   "id": "8a18b9c6",
   "metadata": {},
   "source": [
    "# Modeling a Network\n",
    "\n",
    "TBD: explain the King's graph-based network model"
   ]
  },
  {
   "cell_type": "markdown",
   "id": "50a69f0e-4704-4b6b-84cb-003a12f09d0c",
   "metadata": {},
   "source": [
    "The first code cell imports the needed funcions\n",
    "NOTE: The code imports from \"helpers\", a folder colocated with this Jupyter Notebook."
   ]
  },
  {
   "cell_type": "code",
   "execution_count": null,
   "id": "69183b1a-8ab9-4be5-911b-d122c08e0eb1",
   "metadata": {},
   "outputs": [],
   "source": [
    "# General Python packages\n",
    "import matplotlib.pyplot as plt\n",
    "import numpy as np\n",
    "\n",
    "# Ocean software packages\n",
    "import dimod\n",
    "from dwave.samplers import SimulatedAnnealingSampler\n",
    "from dwave.system import DWaveSampler, FixedEmbeddingComposite\n",
    "\n",
    "# Functions of this repository\n",
    "from helpers.draw import draw_loop_comparison, draw_network\n",
    "from helpers.filters import apply_filter, apply_filters, compare_signals, create_filter, create_filters, time_filter_instantiation\n",
    "from helpers.general import loop_comparisons\n",
    "from helpers.network import configure_network, create_channels, print_network_stats, simulate_signals\n",
    "\n",
    "# Enable graphics inline\n",
    "%matplotlib inline "
   ]
  },
  {
   "cell_type": "markdown",
   "id": "4c8ba226-8943-488b-ba70-384a0a1edd75",
   "metadata": {},
   "source": [
    "## Create a Network Graph\n",
    "\n",
    "TBD: explain the King's graph-based network model\n",
    "\n",
    "NOTE: The code imports from \"helpers\", a folder colocated with this Jupyter Notebook."
   ]
  },
  {
   "cell_type": "code",
   "execution_count": null,
   "id": "dccf0add-a7c5-4201-9e04-b67ca78494e1",
   "metadata": {
    "vscode": {
     "languageId": "plaintext"
    }
   },
   "outputs": [],
   "source": [
    "network, _ = configure_network(lattice_size=5)\n",
    "\n",
    "print_network_stats(network)\n",
    "draw_network(network)"
   ]
  },
  {
   "cell_type": "markdown",
   "id": "bb6ce038-12ac-4d91-b947-a6872dc3d02e",
   "metadata": {},
   "source": [
    "The next code cell plots the network graph, showing transmitters in red and receivers in green. "
   ]
  },
  {
   "cell_type": "markdown",
   "id": "496c12f4-636a-4814-80ac-673fcb4078be",
   "metadata": {},
   "source": [
    "## Create Channels\n",
    "\n",
    "Between the transmitters and receivers there are channels etc"
   ]
  },
  {
   "cell_type": "code",
   "execution_count": null,
   "id": "5f7b9bf5-a740-459c-8b08-a3e47bc3084f",
   "metadata": {},
   "outputs": [],
   "source": [
    "channels, channel_power = create_channels(network)\n",
    "print(f\"Channels are represented by a {channels.shape[0]}x{channels.shape[1]} matrix.\")"
   ]
  },
  {
   "cell_type": "markdown",
   "id": "4322f26a-edd5-40a8-9230-d81b1ec31e6d",
   "metadata": {},
   "source": [
    "# Decoding Transmissions: Classical Resources\n",
    "\n",
    "TBD: explain linear filters"
   ]
  },
  {
   "cell_type": "markdown",
   "id": "39268959-9004-4b95-9ed4-89c291bf62fe",
   "metadata": {},
   "source": [
    "## Create Filters\n",
    "Explain about filters"
   ]
  },
  {
   "cell_type": "code",
   "execution_count": null,
   "id": "fbe22614-5a09-4038-a134-fcd87b44d126",
   "metadata": {},
   "outputs": [],
   "source": [
    "filters = create_filters(channels)\n",
    "print(f\"Created filters: {list(filters.keys())}.\")"
   ]
  },
  {
   "cell_type": "markdown",
   "id": "ad2cd3be-d5a9-40b5-b7e4-65588353b0cc",
   "metadata": {},
   "source": [
    "## Simulate Transmissions\n"
   ]
  },
  {
   "cell_type": "code",
   "execution_count": null,
   "id": "963ab32e-8323-42ea-b001-30dae43dd11f",
   "metadata": {},
   "outputs": [],
   "source": [
    "y, transmitted_symbols = simulate_signals(channels, channel_power)                 \n",
    "print(f\"First 10 transmitted symbols: {transmitted_symbols.flatten()[:10]}. \\nFirst 10 received symbols: {y.flatten()[:10]}.\")"
   ]
  },
  {
   "cell_type": "markdown",
   "id": "c6dc5d18-110c-4ffb-9bad-48b17eda7fa4",
   "metadata": {},
   "source": [
    "## Decode Received Signals"
   ]
  },
  {
   "cell_type": "code",
   "execution_count": null,
   "id": "38b7daba-1e8c-4bff-b3f9-d14d5a91f229",
   "metadata": {},
   "outputs": [],
   "source": [
    "v = apply_filters(y, filters)\n",
    "compare_signals(v, transmitted_symbols)"
   ]
  },
  {
   "cell_type": "markdown",
   "id": "65714077-8387-4498-87a0-9abc76ed3dbc",
   "metadata": {},
   "source": [
    "# Scaling Up\n",
    "\n",
    "PLACEHOLDER TEXT: The function below compares ..... Times greater than half a second are highlighted in red. "
   ]
  },
  {
   "cell_type": "code",
   "execution_count": null,
   "id": "bec5f987-df91-427c-8db3-b4a89f1ce1e4",
   "metadata": {},
   "outputs": [],
   "source": [
    "time_filter_instantiation(network_size=[5, 10, 15])"
   ]
  },
  {
   "cell_type": "markdown",
   "id": "6de8f542-6c50-4a87-a75f-b7a636c95244",
   "metadata": {},
   "source": [
    "# Decoding Transmissions: Quantum\n",
    "Some words here"
   ]
  },
  {
   "cell_type": "code",
   "execution_count": null,
   "id": "ce59a07c-acef-4c17-8551-6078377b3a3a",
   "metadata": {},
   "outputs": [],
   "source": [
    "qpu = DWaveSampler(solver=dict(topology__type=\"pegasus\"))\n",
    "\n",
    "print(f\"Selected {qpu.solver.name} with {len(qpu.nodelist)} qubits.\")"
   ]
  },
  {
   "cell_type": "markdown",
   "id": "859fa35d-f813-4836-81ba-190c4f48bc8d",
   "metadata": {},
   "source": [
    "## BQM Representation (Small-Town Problem)"
   ]
  },
  {
   "cell_type": "markdown",
   "id": "01da0bc5-3775-43af-9de5-85b096094b6a",
   "metadata": {},
   "source": [
    "### Create a Network, Filter, and Simulate Signals"
   ]
  },
  {
   "cell_type": "code",
   "execution_count": null,
   "id": "ba888aa9-0502-462c-84ec-c0818c9c901a",
   "metadata": {},
   "outputs": [],
   "source": [
    "SNR = 10\n",
    "\n",
    "network, embedding = configure_network(lattice_size=16, qpu=qpu)\n",
    "print_network_stats(network)\n",
    "\n",
    "channels, channel_power =  create_channels(network)\n",
    "\n",
    "filter_mf = create_filter(channels, method='matched_filter')\n",
    "y, transmitted_symbols = simulate_signals(channels, channel_power, SNRb=SNR)  "
   ]
  },
  {
   "cell_type": "markdown",
   "id": "4ac05f10-b527-496f-b0b2-285d89152eed",
   "metadata": {},
   "source": [
    "For comparison, decode this tranmission with the linear filter."
   ]
  },
  {
   "cell_type": "code",
   "execution_count": null,
   "id": "bdde4888-537b-4d5d-aeed-a61b5cf14ee9",
   "metadata": {},
   "outputs": [],
   "source": [
    "v = apply_filter(filter_mf, y) \n",
    "compare_signals(v, transmitted_symbols)"
   ]
  },
  {
   "cell_type": "markdown",
   "id": "e648574b-42a3-43aa-9580-5b95ea72660e",
   "metadata": {},
   "source": [
    "### Create a BQM"
   ]
  },
  {
   "cell_type": "code",
   "execution_count": null,
   "id": "66864661-740e-4a10-b3b2-0759396679e4",
   "metadata": {},
   "outputs": [],
   "source": [
    "bqm = dimod.generators.mimo.spin_encoded_comp(network, \n",
    "                                              modulation = 'BPSK', \n",
    "                                              transmitted_symbols=transmitted_symbols, \n",
    "                                              F_distribution=('binary','real'), \n",
    "                                              F=channels,\n",
    "                                              y=y)\n",
    "\n",
    "print(f\"BQM has {len(bqm)} variables with {len(bqm.quadratic)} quadratic interactions.\")"
   ]
  },
  {
   "cell_type": "markdown",
   "id": "c118d36c-d269-45f5-b49e-4595cc4c7a28",
   "metadata": {},
   "source": [
    "### Decode Received Signals\n",
    "\n",
    "Use the quantum computer to decode the tranmission."
   ]
  },
  {
   "cell_type": "code",
   "execution_count": null,
   "id": "e4e68908-80e4-4819-861f-cee2f31b6d1d",
   "metadata": {},
   "outputs": [],
   "source": [
    "sampler = FixedEmbeddingComposite(qpu, embedding)\n",
    "\n",
    "sampleset = sampler.sample(bqm, \n",
    "                           num_reads=30, \n",
    "                           annealing_time=200, \n",
    "                           chain_strength=-0.13*min(bqm.linear.values()),\n",
    "                           label='Notebook - Coordinated Multipoint')\n",
    "\n",
    "compare_signals(sampleset, transmitted_symbols)"
   ]
  },
  {
   "cell_type": "markdown",
   "id": "d5bd407a-a4c6-4ab8-a3fb-f536280edf91",
   "metadata": {},
   "source": [
    "## Big-City Problems\n",
    "\n",
    "PLACEHOLDER TEXT: Problems become harder as a function of noise (SNR) and transmitter-to-receiver ratio ($\\frac{Tx}{Rx}$).\n",
    "\n",
    "The image below shows ...\n",
    "\n",
    "<img src=\"_static/problem_hardness.png\" width=\"800\">"
   ]
  },
  {
   "cell_type": "code",
   "execution_count": null,
   "id": "cfffa401-a536-4ab0-b392-b5b54dcde39a",
   "metadata": {},
   "outputs": [],
   "source": [
    "results = loop_comparisons(runs=10, qpu=qpu)\n",
    "medians = {filter: np.median(val) for filter, val in results.items()}\n",
    "\n",
    "for solver in medians:\n",
    "    print(f'\\t * Median success rate for {solver}: {medians[solver]}.')\n",
    "\n",
    "draw_loop_comparison(results)"
   ]
  },
  {
   "cell_type": "markdown",
   "id": "8df68e7b-f621-4a81-8da2-9bdef2f556d1",
   "metadata": {},
   "source": [
    "### Extreme Enviroment"
   ]
  },
  {
   "cell_type": "code",
   "execution_count": null,
   "id": "dc13801e-4976-4a6e-b1d7-20d6d5d6c75c",
   "metadata": {},
   "outputs": [],
   "source": [
    "network, embedding = configure_network(lattice_size=16, ratio=1.65, qpu=qpu)\n",
    "print_network_stats(network)\n",
    "\n",
    "SNR = 4.5\n",
    "\n",
    "channels, channel_power =  create_channels(network)\n",
    "\n",
    "filter_mf = create_filter(channels, method='matched_filter', snr_over_nt=SNR)\n",
    "y, transmitted_symbols = simulate_signals(channels, channel_power, SNRb=SNR)\n",
    "\n",
    "bqm = dimod.generators.mimo.spin_encoded_comp(network, \n",
    "                                              modulation = 'BPSK', \n",
    "                                              transmitted_symbols=transmitted_symbols, \n",
    "                                              F_distribution=('binary','real'), \n",
    "                                              F=channels,\n",
    "                                              y=y)"
   ]
  },
  {
   "cell_type": "code",
   "execution_count": null,
   "id": "ca665f8d-3eb2-4a47-962f-7ab96eb45857",
   "metadata": {},
   "outputs": [],
   "source": [
    "sampler = FixedEmbeddingComposite(qpu, embedding)\n",
    "\n",
    "sampleset = sampler.sample(bqm, \n",
    "                           num_reads=30, \n",
    "                           annealing_time=200, \n",
    "                           chain_strength=-0.13*min(bqm.linear.values()),\n",
    "                           label='Notebook - Coordinated Multipoint')\n",
    "\n",
    "compare_signals(sampleset, transmitted_symbols)"
   ]
  },
  {
   "cell_type": "code",
   "execution_count": null,
   "id": "9ef27c6c-3b12-47ea-8dac-84651e7bd1e8",
   "metadata": {},
   "outputs": [],
   "source": [
    "v = apply_filter(filter_mf, y) \n",
    "compare_signals(v, transmitted_symbols)"
   ]
  },
  {
   "cell_type": "markdown",
   "id": "cf07f63a-feaf-44c3-9347-df8c34f30ba6",
   "metadata": {},
   "source": [
    "# Supplementary Technical Material"
   ]
  },
  {
   "cell_type": "markdown",
   "id": "82717b9f-2f7a-47c5-b3ad-78bf7c035f3c",
   "metadata": {},
   "source": [
    "## Performance of Inverting Linear Filters (Success Rate and Time)"
   ]
  },
  {
   "cell_type": "code",
   "execution_count": null,
   "id": "f1a5717b-04c6-40ca-ad28-b47f525fc7b6",
   "metadata": {},
   "outputs": [],
   "source": [
    "# Graphic comparison goes here"
   ]
  },
  {
   "cell_type": "code",
   "execution_count": null,
   "id": "ae309ccf-a55a-41ad-b387-c1a22af88824",
   "metadata": {},
   "outputs": [],
   "source": [
    "# TBD: move this code to helper file\n",
    "\n",
    "results = {\"QPU\": []}\t\t\n",
    "lattice_sizes = [4, 8, 12, 16] \n",
    "for lattice_size in lattice_sizes:\n",
    "    network, embedding = configure_network(lattice_size=16, ratio=1.5, qpu=qpu)\n",
    "    print_network_stats(network)\n",
    "    sampler = FixedEmbeddingComposite(qpu, embedding)\n",
    "\n",
    "    for run in range(3):\n",
    "        channels, channel_power = create_channels(network)\n",
    "    \n",
    "        filters = create_filters(channels)\n",
    "    \n",
    "        y, transmitted_symbols = simulate_signals(channels, channel_power, SNRb=SNR)   \n",
    "        bqm = dimod.generators.mimo.spin_encoded_comp(network, \n",
    "                                                  modulation = 'BPSK', \n",
    "                                                  transmitted_symbols=transmitted_symbols, \n",
    "                                                  F_distribution=('binary','real'), \n",
    "                                                  F=channels,\n",
    "                                                  y=y)\n",
    "        \n",
    "        sampleset = sampler.sample(bqm, num_reads=30, \n",
    "                               annealing_time=200, \n",
    "                               chain_strength=-0.13*min(bqm.linear.values()), \n",
    "                               label='Notebook - Coordinated Multipoint')\n",
    "    \n",
    "        results[\"QPU\"].append(round(100*sum(np.array(list(sampleset.first.sample.values())) == transmitted_symbols.flatten())/len(transmitted_symbols)))\n",
    "        \n",
    "        v = apply_filters(y, filters)\n",
    "        compare_signals(v, transmitted_symbols)\n",
    "        #results[\"MF\"].append(round(100*sum(v.flatten() == transmitted_symbols.flatten())/len(transmitted_symbols)))\n",
    "    \n",
    " \n",
    "#stats = {key: np.median(val) for key, val in results.items()}\n"
   ]
  },
  {
   "cell_type": "code",
   "execution_count": null,
   "id": "696f7537-2b64-4416-a06d-0c56896f5c7b",
   "metadata": {},
   "outputs": [],
   "source": [
    "results"
   ]
  },
  {
   "cell_type": "markdown",
   "id": "3999f691-7bd1-4984-bf32-a9aa3a5dd0bb",
   "metadata": {},
   "source": [
    "## Comparison to Simulated Annealing\n",
    "\n",
    "PLACEHOLDER TEXT: Like linear filters that require matrix inversion, simulated annealing is also computationally demanding, requiring high power consumption. However, simulated annealing can produce high-quality results on the same order as the QPU.  "
   ]
  },
  {
   "cell_type": "code",
   "execution_count": null,
   "id": "9eef5d2c-bcd6-491e-adb4-098771fcf0b7",
   "metadata": {},
   "outputs": [],
   "source": [
    "# TBD: move this code to helper file\n",
    "\n",
    "import numpy as np\n",
    "import networkx as nx\n",
    "\n",
    "network, embedding = configure_network(lattice_size=16, ratio=1.5, qpu=qpu)\n",
    "print_network_stats(network)\n",
    "\n",
    "sa_sampler = SimulatedAnnealingSampler()\n",
    "qpu_sampler = FixedEmbeddingComposite(qpu, embedding)\n",
    "\n",
    "results = {\"QPU\": [], \"SA\": []}\n",
    "for run in range(10):\n",
    "    transmitted_symbols = np.random.choice([1, -1], size=[sum(nx.get_node_attributes(network, \"num_transmitters\").values()), 1]) \n",
    "\n",
    "    bqm = dimod.generators.mimo.spin_encoded_comp(network, \n",
    "                                              modulation = 'BPSK', \n",
    "                                              transmitted_symbols=transmitted_symbols, \n",
    "                                              F_distribution=('binary','real'), \n",
    "                                              SNRb=5)\n",
    "\n",
    "    sampleset_sa = sa_sampler.sample(bqm, num_reads=1, num_sweeps=150)\n",
    "    sampleset_qpu = qpu_sampler.sample(bqm, num_reads=30, \n",
    "                           annealing_time=200, \n",
    "                           chain_strength=-0.13*min(bqm.linear.values()), \n",
    "                           label='Notebook - Coordinated Multipoint')\n",
    "\n",
    "    results[\"QPU\"].append(round(100*sum(np.array(list(sampleset_qpu.first.sample.values())) == transmitted_symbols.flatten())/len(transmitted_symbols)))\n",
    "    results[\"SA\"].append(round(100*sum(np.array(list(sampleset_sa.first.sample.values())) == transmitted_symbols.flatten())/len(transmitted_symbols)))\n"
   ]
  },
  {
   "cell_type": "code",
   "execution_count": null,
   "id": "04b7da14-36ef-4f64-9ebe-1d4258ec5e13",
   "metadata": {},
   "outputs": [],
   "source": [
    "# TBD: move this code to helper file\n",
    "\n",
    "fig, ax = plt.subplots(nrows=1, ncols=1)\n",
    "ax.plot(results[\"QPU\"], \"b*-\", label=f\"QPU\", markersize=5)\n",
    "ax.plot(results[\"SA\"], \"g^-\", label=f\"Simulated Annealing\", markersize=5)\n",
    "ax.set(xlabel=\"Seed\", ylabel=\"Success Rate [%]\")\n",
    "plt.suptitle(\"P16, Tx/Rx=1.5, Anneal Time 200us\")\n",
    "ax.legend()"
   ]
  },
  {
   "cell_type": "markdown",
   "id": "d2a26d8e-a781-4fad-a93e-d9b7442d9782",
   "metadata": {},
   "source": [
    "## Minor Embedding\n",
    "\n",
    "The graphic below shows how the network graph is minor-embedded into the QPU working graph for a network of lattice size 4. \n",
    "\n",
    "Colored dots are qubits: note that pairs of identically-colored dots, such as the blue, green, and red pairs on the top row, represent a single node of the logical network. "
   ]
  },
  {
   "cell_type": "markdown",
   "id": "33dc11c9-c0d7-429b-8ef1-daedd9a29fa4",
   "metadata": {},
   "source": [
    "<img src=\"_static/embedding_lattice4.png\">\n"
   ]
  },
  {
   "cell_type": "code",
   "execution_count": null,
   "id": "e655146e-34c7-46b7-a0ca-2c5dd296b7e7",
   "metadata": {},
   "outputs": [],
   "source": []
  }
 ],
 "metadata": {
  "kernelspec": {
   "display_name": "Python 3 (ipykernel)",
   "language": "python",
   "name": "python3"
  },
  "language_info": {
   "codemirror_mode": {
    "name": "ipython",
    "version": 3
   },
   "file_extension": ".py",
   "mimetype": "text/x-python",
   "name": "python",
   "nbconvert_exporter": "python",
   "pygments_lexer": "ipython3",
   "version": "3.10.2"
  }
 },
 "nbformat": 4,
 "nbformat_minor": 5
}
