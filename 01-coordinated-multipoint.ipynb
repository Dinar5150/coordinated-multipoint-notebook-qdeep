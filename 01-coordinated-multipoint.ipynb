{
 "cells": [
  {
   "cell_type": "markdown",
   "id": "1fb80853-cf2f-4519-aa48-d4dd14ee9d5d",
   "metadata": {},
   "source": [
    "# Coordinated Multipoint Using a Quantum Computer\n",
    "This notebook demonstrates"
   ]
  },
  {
   "cell_type": "markdown",
   "id": "079524af",
   "metadata": {},
   "source": [
    "# What is Coordinated Multipoint?\n",
    "\n",
    "TBD: add description, papers, etc"
   ]
  },
  {
   "cell_type": "markdown",
   "id": "8a18b9c6",
   "metadata": {},
   "source": [
    "# Modeling a Network\n",
    "\n",
    "TBD: explain the King's graph-based network model"
   ]
  },
  {
   "cell_type": "markdown",
   "id": "4c8ba226-8943-488b-ba70-384a0a1edd75",
   "metadata": {},
   "source": [
    "## Create a Network Graph\n",
    "\n",
    "TBD: explain the King's graph-based network model"
   ]
  },
  {
   "cell_type": "code",
   "execution_count": null,
   "id": "dccf0add-a7c5-4201-9e04-b67ca78494e1",
   "metadata": {
    "vscode": {
     "languageId": "plaintext"
    }
   },
   "outputs": [],
   "source": [
    "# This code imports from \"helpers\", a folder colocated with this Jupyter Notebook.\n",
    "from helpers.network import configure_network, print_network_stats\n",
    "\n",
    "network, _ = configure_network(lattice_size=4, ratio=1)\n",
    "num_tx, num_rx = print_network_stats(network)"
   ]
  },
  {
   "cell_type": "markdown",
   "id": "bb6ce038-12ac-4d91-b947-a6872dc3d02e",
   "metadata": {},
   "source": [
    "The next code cell plots the network graph, showing transmitters in red and receivers in green. "
   ]
  },
  {
   "cell_type": "code",
   "execution_count": null,
   "id": "41722cea-83ac-4e11-83b1-2d61d1f2abf2",
   "metadata": {
    "scrolled": true
   },
   "outputs": [],
   "source": [
    "import matplotlib.pyplot as plt\n",
    "from helpers.draw import draw_network\n",
    "%matplotlib inline     \n",
    "\n",
    "draw_network(network)"
   ]
  },
  {
   "cell_type": "markdown",
   "id": "496c12f4-636a-4814-80ac-673fcb4078be",
   "metadata": {},
   "source": [
    "## Create Channels\n",
    "\n",
    "Between the transmitters and receivers there are channels etc"
   ]
  },
  {
   "cell_type": "code",
   "execution_count": null,
   "id": "5f7b9bf5-a740-459c-8b08-a3e47bc3084f",
   "metadata": {},
   "outputs": [],
   "source": [
    "import numpy as np\n",
    "import dimod\n",
    "\n",
    "channels, channel_power = dimod.generators.mimo.create_channel(num_receivers=num_rx, num_transmitters=num_tx, F_distribution=(\"binary\", \"real\"))\n",
    "\n",
    "print(f\"`channels` is a {channels.shape[0]} by {channels.shape[1]} matrix.\")\n",
    "\n",
    "tx = np.random.choice(list(range(num_tx)))\n",
    "rx = np.random.choice(list(range(num_rx)))\n",
    "print(f\"The value of the channel between transmitter {tx} and receiver {rx} is {channels[rx, tx]}.\")  "
   ]
  },
  {
   "cell_type": "markdown",
   "id": "4322f26a-edd5-40a8-9230-d81b1ec31e6d",
   "metadata": {},
   "source": [
    "# Decoding Signals\n",
    "\n",
    "TBD: explain linear filters"
   ]
  },
  {
   "cell_type": "markdown",
   "id": "39268959-9004-4b95-9ed4-89c291bf62fe",
   "metadata": {},
   "source": [
    "## Create a Filter\n",
    "Explain about filters"
   ]
  },
  {
   "cell_type": "code",
   "execution_count": null,
   "id": "fbe22614-5a09-4038-a134-fcd87b44d126",
   "metadata": {},
   "outputs": [],
   "source": [
    "from helpers.filters import create_filter\n",
    "\n",
    "filter_methods = ['zero_forcing', 'matched_filter', 'MMSE']\n",
    "filters = {f'filter_{method}': create_filter(channels, method=method) for method in filter_methods}"
   ]
  },
  {
   "cell_type": "markdown",
   "id": "ad2cd3be-d5a9-40b5-b7e4-65588353b0cc",
   "metadata": {},
   "source": [
    "## Simulated a Transmitted Signal\n"
   ]
  },
  {
   "cell_type": "code",
   "execution_count": null,
   "id": "963ab32e-8323-42ea-b001-30dae43dd11f",
   "metadata": {},
   "outputs": [],
   "source": [
    "\n",
    "transmitted_symbols = np.random.choice([1, -1], size=[num_tx, 1]) \n",
    "y, _, _, _ = dimod.generators.mimo._create_signal(channels, transmitted_symbols=transmitted_symbols)\n",
    "print(y.flatten())"
   ]
  },
  {
   "cell_type": "markdown",
   "id": "c6dc5d18-110c-4ffb-9bad-48b17eda7fa4",
   "metadata": {},
   "source": [
    "## Decode a Transmitted Signal"
   ]
  },
  {
   "cell_type": "code",
   "execution_count": null,
   "id": "333a75f6-fafe-4953-9e8b-49706d16c3aa",
   "metadata": {
    "scrolled": true
   },
   "outputs": [],
   "source": [
    "from helpers.filters import apply_filter\n",
    "\n",
    "v = {name: apply_filter(filter, y) for name, filter in filters.items()}\n",
    "success_rate = {name: round(100*sum(v[name].flatten() == transmitted_symbols.flatten())/num_tx) for name, filter in filters.items()}    \n",
    "\n",
    "for method in filters:\n",
    "    print(f\"{method}: decoded with a success rate of {success_rate[method]}%.\")"
   ]
  },
  {
   "cell_type": "markdown",
   "id": "65714077-8387-4498-87a0-9abc76ed3dbc",
   "metadata": {},
   "source": [
    "# Scaling Up"
   ]
  },
  {
   "cell_type": "code",
   "execution_count": null,
   "id": "09e406ba-5cc9-400d-bf2b-f74e4f76da43",
   "metadata": {},
   "outputs": [],
   "source": [
    "import networkx as nx\n",
    "import time\n",
    "\n",
    "for lattice_size in [5, 10, 15]:\n",
    "\n",
    "    network, _ = configure_network(lattice_size=lattice_size, ratio=1)\n",
    "    num_tx = sum(nx.get_node_attributes(network, \"num_transmitters\").values())\n",
    "    num_rx = sum(nx.get_node_attributes(network, \"num_receivers\").values())\n",
    "    channels, channel_power = dimod.generators.mimo.create_channel(num_receivers=num_rx, num_transmitters=num_tx, F_distribution=(\"binary\", \"real\"))\n",
    "    print(f\"\\nFor a network of {num_tx} cellphones and {num_rx} base stations:\\n\")\n",
    "    for method in filter_methods:\n",
    "        start_t = time.time_ns()\n",
    "        create_filter(channels, method=method)\n",
    "        time_ms = (time.time_ns() - start_t)/1000000\n",
    "        print(f\"\\t* {method} took about {round(time_ms)} milliseconds.\")\n",
    "    "
   ]
  },
  {
   "cell_type": "markdown",
   "id": "6de8f542-6c50-4a87-a75f-b7a636c95244",
   "metadata": {},
   "source": [
    "# Solving with a Quantum Computer\n",
    "Some words here"
   ]
  },
  {
   "cell_type": "code",
   "execution_count": null,
   "id": "ce59a07c-acef-4c17-8551-6078377b3a3a",
   "metadata": {},
   "outputs": [],
   "source": [
    "from dwave.system import DWaveSampler\n",
    "\n",
    "qpu = DWaveSampler(solver=dict(topology__type=\"pegasus\"))\n",
    "\n",
    "print(f\"Selected {qpu.solver.name} with {len(qpu.nodelist)} qubits.\")"
   ]
  },
  {
   "cell_type": "markdown",
   "id": "859fa35d-f813-4836-81ba-190c4f48bc8d",
   "metadata": {},
   "source": [
    "## Representing the Problem as a BQM"
   ]
  },
  {
   "cell_type": "markdown",
   "id": "01da0bc5-3775-43af-9de5-85b096094b6a",
   "metadata": {},
   "source": [
    "### Create a Network"
   ]
  },
  {
   "cell_type": "code",
   "execution_count": null,
   "id": "ba888aa9-0502-462c-84ec-c0818c9c901a",
   "metadata": {},
   "outputs": [],
   "source": [
    "network, _ = configure_network(lattice_size=16, ratio=1, qpu=qpu)\n",
    "num_tx, num_rx = print_network_stats(network)\n",
    "channels, channel_power = dimod.generators.mimo.create_channel(num_receivers=num_rx, num_transmitters=num_tx, F_distribution=(\"binary\", \"real\"))"
   ]
  },
  {
   "cell_type": "markdown",
   "id": "885e06d9-565f-403b-8a88-ff4ba3e26cd9",
   "metadata": {},
   "source": [
    "### Create Filters and a Signal"
   ]
  },
  {
   "cell_type": "code",
   "execution_count": null,
   "id": "49531898-104c-4be2-90a1-a4bc7287bb4a",
   "metadata": {},
   "outputs": [],
   "source": [
    "filter_mf = create_filter(channels, method='matched_filter')\n",
    "transmitted_symbols = np.random.choice([1, -1], size=[num_tx, 1]) \n",
    "y, _, _, _ = dimod.generators.mimo._create_signal(channels, transmitted_symbols=transmitted_symbols)\n"
   ]
  },
  {
   "cell_type": "markdown",
   "id": "e648574b-42a3-43aa-9580-5b95ea72660e",
   "metadata": {},
   "source": [
    "## Create a BQM"
   ]
  },
  {
   "cell_type": "code",
   "execution_count": null,
   "id": "66864661-740e-4a10-b3b2-0759396679e4",
   "metadata": {},
   "outputs": [],
   "source": [
    "bqm = dimod.generators.mimo.spin_encoded_comp(network, \n",
    "                                              modulation = 'BPSK', \n",
    "                                              transmitted_symbols=transmitted_symbols, \n",
    "                                              F_distribution=('binary','real'), \n",
    "                                              SNRb=float('inf'),\n",
    "                                              F=channels,\n",
    "                                              y=y)"
   ]
  },
  {
   "cell_type": "markdown",
   "id": "c118d36c-d269-45f5-b49e-4595cc4c7a28",
   "metadata": {},
   "source": [
    "## Decode a Transmitted Signal"
   ]
  },
  {
   "cell_type": "code",
   "execution_count": null,
   "id": "e4e68908-80e4-4819-861f-cee2f31b6d1d",
   "metadata": {},
   "outputs": [],
   "source": []
  }
 ],
 "metadata": {
  "kernelspec": {
   "display_name": "Python 3 (ipykernel)",
   "language": "python",
   "name": "python3"
  },
  "language_info": {
   "codemirror_mode": {
    "name": "ipython",
    "version": 3
   },
   "file_extension": ".py",
   "mimetype": "text/x-python",
   "name": "python",
   "nbconvert_exporter": "python",
   "pygments_lexer": "ipython3",
   "version": "3.10.2"
  }
 },
 "nbformat": 4,
 "nbformat_minor": 5
}
