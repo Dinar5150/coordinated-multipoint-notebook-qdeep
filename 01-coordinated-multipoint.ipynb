{
 "cells": [
  {
   "cell_type": "markdown",
   "id": "1fb80853-cf2f-4519-aa48-d4dd14ee9d5d",
   "metadata": {},
   "source": [
    "# Coordinated Multipoint Using a Quantum Computer\n",
    "This notebook demonstrates"
   ]
  },
  {
   "cell_type": "markdown",
   "id": "079524af",
   "metadata": {},
   "source": [
    "# What is Coordinated Multipoint?\n",
    "\n",
    "TBD: add description, papers, etc"
   ]
  },
  {
   "cell_type": "markdown",
   "id": "8a18b9c6",
   "metadata": {},
   "source": [
    "# Modeling a Network\n",
    "\n",
    "TBD: explain the King's graph-based network model"
   ]
  },
  {
   "cell_type": "markdown",
   "id": "4c8ba226-8943-488b-ba70-384a0a1edd75",
   "metadata": {},
   "source": [
    "## Create a Network Graph\n",
    "\n",
    "TBD: explain the King's graph-based network model"
   ]
  },
  {
   "cell_type": "code",
   "execution_count": null,
   "id": "dccf0add-a7c5-4201-9e04-b67ca78494e1",
   "metadata": {
    "vscode": {
     "languageId": "plaintext"
    }
   },
   "outputs": [],
   "source": [
    "# This code imports from \"helpers\", a folder colocated with this Jupyter Notebook.\n",
    "from helpers.network import configure_network, print_network_stats\n",
    "\n",
    "network, _ = configure_network(lattice_size=3, ratio=1.5)\n",
    "num_tx, num_rx = print_network_stats(network)"
   ]
  },
  {
   "cell_type": "markdown",
   "id": "bb6ce038-12ac-4d91-b947-a6872dc3d02e",
   "metadata": {},
   "source": [
    "The next code cell plots the network graph, showing transmitters in red and receivers in green. "
   ]
  },
  {
   "cell_type": "code",
   "execution_count": null,
   "id": "41722cea-83ac-4e11-83b1-2d61d1f2abf2",
   "metadata": {
    "scrolled": true
   },
   "outputs": [],
   "source": [
    "import matplotlib.pyplot as plt\n",
    "from helpers.draw import draw_network\n",
    "%matplotlib inline     \n",
    "\n",
    "draw_network(network)"
   ]
  },
  {
   "cell_type": "markdown",
   "id": "496c12f4-636a-4814-80ac-673fcb4078be",
   "metadata": {},
   "source": [
    "## Create Channels\n",
    "\n",
    "Between the transmitters and receivers there are channels etc"
   ]
  },
  {
   "cell_type": "code",
   "execution_count": null,
   "id": "5f7b9bf5-a740-459c-8b08-a3e47bc3084f",
   "metadata": {},
   "outputs": [],
   "source": [
    "import numpy as np\n",
    "import dimod\n",
    "\n",
    "channels, channel_power = dimod.generators.mimo.create_channel(num_receivers=num_rx, num_transmitters=num_tx, F_distribution=(\"binary\", \"real\"))\n",
    "\n",
    "print(f\"`channels` is a {channels.shape[0]} by {channels.shape[1]} matrix.\")\n",
    "\n",
    "tx = np.random.choice(list(range(num_tx)))\n",
    "rx = np.random.choice(list(range(num_rx)))\n",
    "print(f\"The value of the channel between transmitter {tx} and receiver {rx} is {channels[rx, tx]}.\")  "
   ]
  },
  {
   "cell_type": "markdown",
   "id": "4322f26a-edd5-40a8-9230-d81b1ec31e6d",
   "metadata": {},
   "source": [
    "# Decoding Signals\n",
    "\n",
    "TBD: explain linear filters"
   ]
  },
  {
   "cell_type": "markdown",
   "id": "39268959-9004-4b95-9ed4-89c291bf62fe",
   "metadata": {},
   "source": [
    "## Create a Filter\n",
    "Explain about filters"
   ]
  },
  {
   "cell_type": "code",
   "execution_count": null,
   "id": "fbe22614-5a09-4038-a134-fcd87b44d126",
   "metadata": {},
   "outputs": [],
   "source": [
    "filter = dimod.generators.mimo.linear_filter(channels, method='zero_forcing', SNRoverNt=float('inf'))"
   ]
  },
  {
   "cell_type": "markdown",
   "id": "ad2cd3be-d5a9-40b5-b7e4-65588353b0cc",
   "metadata": {},
   "source": [
    "## Simulated a Transmitted Signal\n"
   ]
  },
  {
   "cell_type": "code",
   "execution_count": null,
   "id": "963ab32e-8323-42ea-b001-30dae43dd11f",
   "metadata": {},
   "outputs": [],
   "source": [
    "\n",
    "transmitted_symbols = np.random.choice([1, -1], size=[num_tx, 1]) \n",
    "y, _, _, _ = dimod.generators.mimo._create_signal(channels, transmitted_symbols=transmitted_symbols)\n",
    "print(y.flatten())"
   ]
  },
  {
   "cell_type": "markdown",
   "id": "c6dc5d18-110c-4ffb-9bad-48b17eda7fa4",
   "metadata": {},
   "source": [
    "## Decode a Transmitted Signal"
   ]
  },
  {
   "cell_type": "code",
   "execution_count": null,
   "id": "333a75f6-fafe-4953-9e8b-49706d16c3aa",
   "metadata": {},
   "outputs": [],
   "source": [
    "sampleset = np.sign(np.real(np.matmul(filter, y)))[:,0]\n",
    "success_rate = round(100*sum(sampleset.flatten() == transmitted_symbols.flatten())/num_tx)\n",
    "print(f\"Decoded with a success rate of {success_rate}%.\")"
   ]
  },
  {
   "cell_type": "code",
   "execution_count": null,
   "id": "3d8d6636-2511-4f65-93d0-262afa99918f",
   "metadata": {},
   "outputs": [],
   "source": []
  }
 ],
 "metadata": {
  "kernelspec": {
   "display_name": "Python 3 (ipykernel)",
   "language": "python",
   "name": "python3"
  },
  "language_info": {
   "codemirror_mode": {
    "name": "ipython",
    "version": 3
   },
   "file_extension": ".py",
   "mimetype": "text/x-python",
   "name": "python",
   "nbconvert_exporter": "python",
   "pygments_lexer": "ipython3",
   "version": "3.10.2"
  }
 },
 "nbformat": 4,
 "nbformat_minor": 5
}
