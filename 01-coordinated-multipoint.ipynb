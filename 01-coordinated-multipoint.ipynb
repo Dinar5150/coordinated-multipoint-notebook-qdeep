{
 "cells": [
  {
   "cell_type": "markdown",
   "id": "75fc25d0-bc95-4c05-9d65-6d76daa61838",
   "metadata": {},
   "source": [
    "# Decoding Cellphone Signals with a Quantum Computer\n",
    "This notebook demonstrates the use of a quantum computer for decoding transmissions \n",
    "in cellphone networks and compares the performance to the state-of-the-art classical \n",
    "alternatives.\n",
    "\n",
    "1. [Modeling a Network](#Modeling-a-Network) section instantiates a model radio network.\n",
    "2. [Decoding Transmissions: Classical Resources](#Decoding-Transmissions:-Classical-Resources) \n",
    "    section  demonstrates the capabilities of several classical decoding algorithms. \n",
    "3. [Decoding Transmissions: Quantum Resources](#Decoding-Transmissions:-Quantum-Resources) \n",
    "    section demonstrates using a quantum computer to decode transmissions at various scales \n",
    "    and environments.\n",
    "4. [Supplementary Technical Material](#Supplementary-Technical-Material) section provides \n",
    "    more-detailed technical information.\n",
    "\n",
    "## A Hard (and Expensive) Problem\n",
    "\n",
    "The number of base stations required to serve a large city depends on the bandwidth such \n",
    "stations are capable of serving. Unfortunately, increases in cellphone numbers and noise \n",
    "quickly harden [[1]](#1) the problem of decoding transmissions. The graphic below shows \n",
    "the dependency of transmission errors on [SNRb](https://en.wikipedia.org/wiki/Signal-to-noise_ratio) \n",
    "(signal-to-noise ratio) and the ratio of cellphones to base stations ($\\frac{Tx}{Rx}$). \n",
    "\n",
    "<img src=\"_static/problem_hardness_3d.png\" width=\"500\">\n",
    "\n",
    "Already, the world's ubiquitous cellphones require huge numbers of base stations to provide \n",
    "its cellular networks; for example, in mid 2022, China's Ministry of Industry and Information \n",
    "Technology reported having deployed almost \n",
    "[2 million base stations](https://techblog.comsoc.org/2022/08/19/china-miit-claim-475m-5g-mobile-users-1-97m-5g-base-stations-at-end-of-july-2022/) \n",
    "for its 5G network alone.\n",
    "\n",
    "A paper [[2]](#2) presented in [SIGCOMM](https://www.sigcomm.org/) 2019 states, \"For optimal \n",
    "performance, an amount of computation that increases at an exponential rate both with the \n",
    "number of users and with the data rate of each user is often required. The base station’s \n",
    "computational capacity is thus becoming one of the key limiting factors on wireless capacity.\" \n",
    "\n",
    "However, power consumption is proportional to computation capacity (with one notable \n",
    "exception: quantum computers; an Advantage&copy; requires just 25kW for operation) and \n",
    "powering base stations has become \n",
    "[enormously challenging](https://techblog.comsoc.org/2020/08/07/5g-base-station-deployments-open-ran-competition-huge-5g-bs-power-problem/).  \n",
    "\n",
    "Profitability for network providers is now driven by seemingly conflicting imperatives: \n",
    "(1) reducing power consumption and (2) increasing processing capability.\n",
    "\n",
    "## What is Coordinated Multipoint?\n",
    "\n",
    "Shortly after the first generation of cellular networks were deployed it became clear that \n",
    "the naive model of pairing cellphones to a single nearby base station is inadequate. Many \n",
    "technologies have been developed to boost performance. \n",
    "[Cooperative MIMO](https://en.wikipedia.org/wiki/Cooperative_MIMO) (multiple-input multiple-output) \n",
    "effectively exploits the spatial domain of mobile fading channels to significantly improve \n",
    "performance. In one of its variations, Coordinated multipoint (CoMP), neighboring base stations \n",
    "share data and channel state information to enable them to coordinate downlink transmissions \n",
    "and jointly process received signals.  \n",
    "\n",
    "## References\n",
    "\n",
    "<a name=\"2\">[2]</a> Toshiyuki Tanaka. \n",
    "A Statistical-Mechanics Approach to Large-System Analysis of CDMA Multiuser Detectors.\n",
    "IEEE TRANSACTIONS ON INFORMATION THEORY, VOL. 48, NO. 11, NOVEMBER 2002\n",
    "\n",
    "<a name=\"1\">[1]</a> Minsung Kim, Davide Venturelli, and Kyle Jamieson. \n",
    "Leveraging quantum annealing for large MIMO processing in centralized radio access networks.\n",
    "SIGCOMM '19: Proceedings of the ACM Special Interest Group on Data Communication, August 2019, Pages 241–255 \n",
    "https://dl.acm.org/doi/10.1145/3341302.3342072"
   ]
  },
  {
   "cell_type": "markdown",
   "id": "8a18b9c6",
   "metadata": {},
   "source": [
    "# Modeling a Network\n",
    "\n",
    "You can model a cellular network as a lattice, with some of its nodes representing cellphones \n",
    "(transmitters, denoted here as $T_x$) and others base stations (receivers, $R_x$). Edges between\n",
    "$T_x$ and $R_x$ nodes represent the wireless channels over which transmissions occur. In CoMP, \n",
    "edges between a cellphone and more than one base station are relevant: base stations can forward \n",
    "the received signals, which have propagated through differing channels with various noise, to \n",
    "be jointly processed, reducing the bit error rate (BER) compared to decoding the cellphone's \n",
    "transmission over a single channel. \n",
    "\n",
    "Increasing the number of $T_x$ nodes relative to $R_x$ nodes (the $\\frac{Tx}{Rx}$ ratio), raises \n",
    "the processing load, simulating base stations in densely populated areas with with many cellphones \n",
    "communicating simultaneously.   \n",
    "\n",
    "This first code cell imports the functionality needed for the following cells. "
   ]
  },
  {
   "cell_type": "code",
   "execution_count": null,
   "id": "69183b1a-8ab9-4be5-911b-d122c08e0eb1",
   "metadata": {},
   "outputs": [],
   "source": [
    "# General Python packages\n",
    "import matplotlib.pyplot as plt\n",
    "import numpy as np\n",
    "\n",
    "# Ocean software packages\n",
    "import dimod\n",
    "from dwave.system import DWaveSampler, FixedEmbeddingComposite\n",
    "\n",
    "# Functions of this repository\n",
    "from helpers.draw import draw_loop_comparison, draw_network\n",
    "from helpers.filters import apply_filter, apply_filters, compare_signals, create_filter, create_filters, time_filter_instantiation\n",
    "from helpers.general import loop_comparisons\n",
    "from helpers.network import configure_network, create_channels, print_network_stats, simulate_signals\n",
    "\n",
    "# Enable graphics inline\n",
    "%matplotlib inline "
   ]
  },
  {
   "cell_type": "markdown",
   "id": "4c8ba226-8943-488b-ba70-384a0a1edd75",
   "metadata": {},
   "source": [
    "## Create a Network Graph\n",
    "\n",
    "The `configure_network` function in the code cell below returns a network based on a lattice \n",
    "in which each node connects to its four nearest neighbors. $T_x$ and $R_x$ nodes alternate: \n",
    "outside of the lattice boundaries, each cellphone can transmit to 4 base stations and each base \n",
    "station can receive signals from 4 cellphones. \n",
    "\n",
    "By default, the `configure_network` function returns a network based on a $45x45$ lattice with \n",
    "a ratio of $\\frac{Tx}{Rx} = 1.5$, achieved by randomly \"turning off\" some number of base stations. \n",
    "For simplicity, this section first sets `network_size=5` for a network based on a 12x12 lattice \n",
    "(given by $3(n-1)=12$ for $n=5$).\n",
    "\n",
    "The `draw_network` function colors transmitters in red and receivers in green. "
   ]
  },
  {
   "cell_type": "code",
   "execution_count": null,
   "id": "dccf0add-a7c5-4201-9e04-b67ca78494e1",
   "metadata": {
    "vscode": {
     "languageId": "plaintext"
    }
   },
   "outputs": [],
   "source": [
    "network, _ = configure_network(network_size=5)\n",
    "\n",
    "print_network_stats(network)\n",
    "draw_network(network)"
   ]
  },
  {
   "cell_type": "markdown",
   "id": "496c12f4-636a-4814-80ac-673fcb4078be",
   "metadata": {},
   "source": [
    "## Create Channels\n",
    "\n",
    "Next, simulate the channels between transmitters and receivers. \n",
    "\n",
    "By default, channels returned from the `create_channels` function are generated from a binary, \n",
    "real distribution that represents inter-symbol interference (ISI), meaning that a base station \n",
    "receives a signal that might be constituted of the different transmitted symbols of more than \n",
    "one cellphone."
   ]
  },
  {
   "cell_type": "code",
   "execution_count": null,
   "id": "5f7b9bf5-a740-459c-8b08-a3e47bc3084f",
   "metadata": {},
   "outputs": [],
   "source": [
    "channels, channel_power = create_channels(network)\n",
    "print(f\"Channels are represented by a {channels.shape[0]}x{channels.shape[1]} matrix.\")"
   ]
  },
  {
   "cell_type": "markdown",
   "id": "4322f26a-edd5-40a8-9230-d81b1ec31e6d",
   "metadata": {},
   "source": [
    "# Decoding Transmissions: Classical Resources\n",
    "\n",
    "To distinguish between the transmitted signals from multiple cellphones, and from noise injected \n",
    "into the transmissions by the environment, base stations standardly process (decode) received \n",
    "transmissions with one of the following linear filters:\n",
    "\n",
    "* [Matched filter](https://en.wikipedia.org/wiki/Matched_filter), which is the optimal linear filter \n",
    "    for maximizing signal-to-noise ratio (SNR) of channels modelled as having additive stochastic \n",
    "    noise, uses the technique of convolution with a conjugated time-reversed signal template.\n",
    "* [Zero forcing](https://en.wikipedia.org/wiki/Zero-forcing_precoding) applies the inverse of the \n",
    "    channel frequency response to the received signal to restore the pre-transmission signal.\n",
    "* [Minimum mean squared error (MMSE)](https://en.wikipedia.org/wiki/Minimum_mean_square_error) \n",
    "    minimizes the mean square error (MSE) between the transmitted and the received signal to \n",
    "    mitigate effects of ISI and noise. \n",
    "\n",
    "## Create Filters\n",
    "\n",
    "By default, the `create_filters` function instantiates all three supported linear filters\n",
    "described above."
   ]
  },
  {
   "cell_type": "code",
   "execution_count": null,
   "id": "fbe22614-5a09-4038-a134-fcd87b44d126",
   "metadata": {},
   "outputs": [],
   "source": [
    "filters = create_filters(channels)\n",
    "print(f\"Created filters: {list(filters.keys())}.\")"
   ]
  },
  {
   "cell_type": "markdown",
   "id": "ad2cd3be-d5a9-40b5-b7e4-65588353b0cc",
   "metadata": {},
   "source": [
    "## Simulate Transmissions\n",
    "\n",
    "Cellular and wireless networks standardly use quadrature amplitude modulation (QAM) to encode \n",
    "transmissions. \n",
    "\n",
    "<img src=\"_static/qam.png\" width=\"200\">\n",
    "\n",
    "Typically used encodings include:\n",
    "\n",
    "* BPSK: Binary Phase Shift Keying. Transmitted symbols are $+1, -1$.\n",
    "* QPSK: Quadrature Phase Shift Keying. Transmitted symbols are \n",
    "    $1+1j, 1-1j, -1+1j, -1-1j$ normalized by $\\frac{1}{\\sqrt{2}}$. \n",
    "* 16QAM: 16 complex-valued QPSK symbols modulated by either 1 or 3.\n",
    "* 64QAM and 256QAM Scale up 16QAM.\n",
    "\n",
    " By default, the \n",
    "function generates BPSK signals.\n",
    "\n",
    "In the following code, `transmitted_symbols` is a sequence of BPSK symbols selected from a uniform\n",
    "random distribution and `y` the result of the channels created above acting upon that signal. "
   ]
  },
  {
   "cell_type": "code",
   "execution_count": null,
   "id": "963ab32e-8323-42ea-b001-30dae43dd11f",
   "metadata": {},
   "outputs": [],
   "source": [
    "y, transmitted_symbols = simulate_signals(channels, channel_power)                 \n",
    "print(f\"First 10 transmitted symbols: {transmitted_symbols.flatten()[:10]}. \\nFirst 10 received symbols: {y.flatten()[:10]}.\")"
   ]
  },
  {
   "cell_type": "markdown",
   "id": "c6dc5d18-110c-4ffb-9bad-48b17eda7fa4",
   "metadata": {},
   "source": [
    "## Decode Received Signals"
   ]
  },
  {
   "cell_type": "code",
   "execution_count": null,
   "id": "38b7daba-1e8c-4bff-b3f9-d14d5a91f229",
   "metadata": {},
   "outputs": [],
   "source": [
    "v = apply_filters(y, filters)\n",
    "compare_signals(v, transmitted_symbols)"
   ]
  },
  {
   "cell_type": "markdown",
   "id": "d21ce821-e164-491f-8bd7-9952229e5294",
   "metadata": {},
   "source": [
    "The preceding did not account for two significant factors:\n",
    "\n",
    "1. Cellular networks impose strict constraints on processing time.\n",
    "2. In addition to the ISI represented by the simulated channel above, wireless environments are noisy. In the following\n",
    "   sections, `simulate_signals` function adds a random normal noise to the transmitted symbols."
   ]
  },
  {
   "cell_type": "markdown",
   "id": "65714077-8387-4498-87a0-9abc76ed3dbc",
   "metadata": {},
   "source": [
    "# Scaling Up\n",
    "\n",
    "Processing time is crucial: a receiver’s physical layer must decode a transmission frame before the transmitter \n",
    "requires feedback about its decoding success or failure. For Wi-Fi networks, this translates to a hard requirement\n",
    "of tens of microseconds. Even in newer cellphone networks such as 4G LTE, base stations must process transmissions \n",
    "with similar speed due to redundancy schemes. As a result, most current systems adopt\n",
    "linear filters, accepting a drop in performance.\n",
    "\n",
    "PLACEHOLDER TEXT: The function below compares ..... Times greater than half a second are highlighted in red. \n",
    "\n",
    "For more details, see the [Technical Supplement](#Technical-Supplement) section below."
   ]
  },
  {
   "cell_type": "code",
   "execution_count": null,
   "id": "bec5f987-df91-427c-8db3-b4a89f1ce1e4",
   "metadata": {},
   "outputs": [],
   "source": [
    "time_filter_instantiation(network_size=[5, 10, 15])"
   ]
  },
  {
   "cell_type": "markdown",
   "id": "6de8f542-6c50-4a87-a75f-b7a636c95244",
   "metadata": {},
   "source": [
    "# Decoding Transmissions: Quantum Resources\n",
    "Some words here"
   ]
  },
  {
   "cell_type": "code",
   "execution_count": null,
   "id": "ce59a07c-acef-4c17-8551-6078377b3a3a",
   "metadata": {},
   "outputs": [],
   "source": [
    "qpu = DWaveSampler(solver=dict(topology__type=\"pegasus\"))\n",
    "\n",
    "print(f\"Selected {qpu.solver.name} with {len(qpu.nodelist)} qubits.\")"
   ]
  },
  {
   "cell_type": "markdown",
   "id": "859fa35d-f813-4836-81ba-190c4f48bc8d",
   "metadata": {},
   "source": [
    "## BQM Representation (Small-Town Problem)"
   ]
  },
  {
   "cell_type": "markdown",
   "id": "01da0bc5-3775-43af-9de5-85b096094b6a",
   "metadata": {},
   "source": [
    "### Create a Network, Filter, and Simulate Signals"
   ]
  },
  {
   "cell_type": "code",
   "execution_count": null,
   "id": "ba888aa9-0502-462c-84ec-c0818c9c901a",
   "metadata": {},
   "outputs": [],
   "source": [
    "SNR = 10\n",
    "\n",
    "network, embedding = configure_network(network_size=16, qpu=qpu)\n",
    "print_network_stats(network)\n",
    "\n",
    "channels, channel_power =  create_channels(network)\n",
    "\n",
    "filter_mf = create_filter(channels, method='matched_filter')\n",
    "y, transmitted_symbols = simulate_signals(channels, channel_power, SNRb=SNR)  "
   ]
  },
  {
   "cell_type": "markdown",
   "id": "4ac05f10-b527-496f-b0b2-285d89152eed",
   "metadata": {},
   "source": [
    "For comparison, decode this tranmission with the linear filter."
   ]
  },
  {
   "cell_type": "code",
   "execution_count": null,
   "id": "bdde4888-537b-4d5d-aeed-a61b5cf14ee9",
   "metadata": {},
   "outputs": [],
   "source": [
    "v = apply_filter(filter_mf, y) \n",
    "compare_signals(v, transmitted_symbols)"
   ]
  },
  {
   "cell_type": "markdown",
   "id": "e648574b-42a3-43aa-9580-5b95ea72660e",
   "metadata": {},
   "source": [
    "### Create a BQM"
   ]
  },
  {
   "cell_type": "code",
   "execution_count": null,
   "id": "66864661-740e-4a10-b3b2-0759396679e4",
   "metadata": {},
   "outputs": [],
   "source": [
    "bqm = dimod.generators.mimo.spin_encoded_comp(network, \n",
    "                                              modulation = 'BPSK', \n",
    "                                              transmitted_symbols=transmitted_symbols, \n",
    "                                              F_distribution=('binary','real'), \n",
    "                                              F=channels,\n",
    "                                              y=y)\n",
    "\n",
    "print(f\"BQM has {len(bqm)} variables with {len(bqm.quadratic)} quadratic interactions.\")"
   ]
  },
  {
   "cell_type": "markdown",
   "id": "c118d36c-d269-45f5-b49e-4595cc4c7a28",
   "metadata": {},
   "source": [
    "### Decode Received Signals\n",
    "\n",
    "Use the quantum computer to decode the tranmission."
   ]
  },
  {
   "cell_type": "code",
   "execution_count": null,
   "id": "e4e68908-80e4-4819-861f-cee2f31b6d1d",
   "metadata": {},
   "outputs": [],
   "source": [
    "sampler = FixedEmbeddingComposite(qpu, embedding)\n",
    "\n",
    "sampleset = sampler.sample(bqm, \n",
    "                           num_reads=30, \n",
    "                           annealing_time=200, \n",
    "                           chain_strength=-0.13*min(bqm.linear.values()),\n",
    "                           label='Notebook - Coordinated Multipoint')\n",
    "\n",
    "compare_signals(sampleset, transmitted_symbols)"
   ]
  },
  {
   "cell_type": "markdown",
   "id": "d5bd407a-a4c6-4ab8-a3fb-f536280edf91",
   "metadata": {},
   "source": [
    "## Big-City Problems\n",
    "\n",
    "Problems become harder [[2]](#2) as a function of channel noise and base-station load. The graphic below shows the bit error rate (BER) as a function of SNRb and $\\frac{Tx}{Rx}$ for a large network (`network_size=16`). Each data point is the median of ten problems solved by running simulated annealing for hundreds of times longer than the runtimes used in this notebook (around 10 seconds verus 30 milliseconds here).\n",
    "\n",
    "<img src=\"_static/problem_hardness.png\" width=\"800\">\n",
    "\n",
    "One sees, for example, that for SNRb of 5 and $\\frac{Tx}{Rx}=1.5$, the expected BER approaches 10%. For problems with parameters above these BER lines, the BQM energy can be lowest (or the maximum likelihood greatest) for solutions that do not match the transmission.   "
   ]
  },
  {
   "cell_type": "markdown",
   "id": "f19aa467-937a-451a-b4ea-b812163ffee9",
   "metadata": {},
   "source": [
    "The next cell runs `runs` number of problems. If your Leap account has a limited quota, consider running fewer problems.  "
   ]
  },
  {
   "cell_type": "code",
   "execution_count": null,
   "id": "cfffa401-a536-4ab0-b392-b5b54dcde39a",
   "metadata": {},
   "outputs": [],
   "source": [
    "results = loop_comparisons(runs=10, qpu=qpu)\n",
    "medians = {filter: np.median(val) for filter, val in results.items()}\n",
    "\n",
    "for solver in medians:\n",
    "    print(f'\\t * Median success rate for {solver}: {medians[solver]}.')\n",
    "\n",
    "draw_loop_comparison(results)"
   ]
  },
  {
   "cell_type": "markdown",
   "id": "8df68e7b-f621-4a81-8da2-9bdef2f556d1",
   "metadata": {},
   "source": [
    "### Rough-Neighborhood Problems\n",
    "\n",
    "You can configure and run for your own preferred values of SNR and $\\frac{Tx}{Rx}$ ratio below."
   ]
  },
  {
   "cell_type": "code",
   "execution_count": null,
   "id": "dc13801e-4976-4a6e-b1d7-20d6d5d6c75c",
   "metadata": {},
   "outputs": [],
   "source": [
    "SNR = 4.5\n",
    "tx_to_rx = 1.65\n",
    "\n",
    "\n",
    "results = loop_comparisons(runs=3, qpu=qpu, snr=SNR, ratio=tx_to_rx)\n",
    "medians = {filter: np.median(val) for filter, val in results.items()}\n",
    "\n",
    "for solver in medians:\n",
    "    print(f'\\t * Median success rate for {solver}: {medians[solver]}.')\n",
    "\n",
    "draw_loop_comparison(results, SNR=SNR, ratio=tx_to_rx)"
   ]
  },
  {
   "cell_type": "markdown",
   "id": "cf07f63a-feaf-44c3-9347-df8c34f30ba6",
   "metadata": {},
   "source": [
    "# Technical Supplement\n",
    "\n",
    "This section provides more technical details on some of the topics demonstrated above."
   ]
  },
  {
   "cell_type": "markdown",
   "id": "82717b9f-2f7a-47c5-b3ad-78bf7c035f3c",
   "metadata": {},
   "source": [
    "## Performance of Matrix-Inverting Filters "
   ]
  },
  {
   "cell_type": "markdown",
   "id": "60f8f280-311e-4536-a2ee-e2398875169e",
   "metadata": {},
   "source": [
    "PLACEHOLDER TEXT: \n",
    "\n",
    "The following plot shows the decoding success rate and instantiation time for a range of network sizes. Each data point in the left plot is the median of ten problems with SNRb of 5 and $\\frac{Tx}{Rx}=1.5$. Times in the right plot were measure on a 10-core i5 Intel processor operating at 1600 Mhz.  \n",
    "\n",
    "<img src=\"_static/all_matched_filters_performance.png\" width=\"800\">\n",
    "\n",
    "As noted in the [Decoding Transmissions: Classical Resources](#Decoding-Transmissions:-Classical-Resources) section, base stations in networks such as 4G LTE and Wi-Fi must process transmissions in tens of microseconds. Instantiation times that exceed a second are unacceptable. "
   ]
  },
  {
   "cell_type": "markdown",
   "id": "3999f691-7bd1-4984-bf32-a9aa3a5dd0bb",
   "metadata": {},
   "source": [
    "## Comparison to Simulated Annealing\n",
    "\n",
    "PLACEHOLDER TEXT: Like linear filters that require matrix inversion, simulated annealing is also computationally demanding, requiring high power consumption. However, simulated annealing can produce high-quality results on the same order as the QPU.  "
   ]
  },
  {
   "cell_type": "code",
   "execution_count": null,
   "id": "0e04052e-4a1b-4383-a7d1-ee3861122a77",
   "metadata": {},
   "outputs": [],
   "source": [
    "results = loop_comparisons(runs=5, qpu=qpu, solvers=['SA'])\n",
    "medians = {filter: np.median(val) for filter, val in results.items()}\n",
    "\n",
    "for solver in medians:\n",
    "    print(f'\\t * Median success rate for {solver}: {medians[solver]}.')\n",
    "\n",
    "draw_loop_comparison(results)"
   ]
  },
  {
   "cell_type": "markdown",
   "id": "96c19e09-d39a-4cb2-ad4d-e128b4a9af54",
   "metadata": {},
   "source": [
    "## Comparison to Other Classical Algorithms"
   ]
  },
  {
   "cell_type": "code",
   "execution_count": null,
   "id": "55c8d2bd-6539-44e0-b24c-a55fe8f51ffd",
   "metadata": {},
   "outputs": [],
   "source": [
    "results = loop_comparisons(snr=5, ratio=1.5, runs=5, qpu=qpu, solvers=['greedy', 'tabu'])\n",
    "medians = {filter: np.median(val) for filter, val in results.items()}\n",
    "\n",
    "for solver in medians:\n",
    "    print(f'\\t * Median success rate for {solver}: {medians[solver]}.')\n",
    "\n",
    "draw_loop_comparison(results)"
   ]
  },
  {
   "cell_type": "markdown",
   "id": "e8c9a976-df30-49e2-ba62-aa9d25460d81",
   "metadata": {},
   "source": [
    "## Configuring Optimal QPU Parameters"
   ]
  },
  {
   "cell_type": "markdown",
   "id": "eafdbd72-2b04-4500-b33c-b5e016029b79",
   "metadata": {},
   "source": [
    "PLACEHOLDER TEXT: How to select the non-default chain strength\n",
    "\n",
    "The following plot shows BER and the fraction of broken chains for a range of chain strengths, calculated as `-cs_multiplier*min(bqm.linear.values())`, where `cs_multiplier` is the sought-after multiple of the most negative value of $h_i$, the linear coefficients of the BQM. Each data point is the median of twenty problems with SNRb of 5 and $\\frac{Tx}{Rx}=1.5$ for a large network (`network_size=16`). \n",
    "\n",
    "<img src=\"_static/chain_strength.png\" width=\"700\">"
   ]
  },
  {
   "cell_type": "markdown",
   "id": "d2a26d8e-a781-4fad-a93e-d9b7442d9782",
   "metadata": {},
   "source": [
    "## Minor Embedding\n",
    "\n",
    "The graphic below shows how a small network graph (`problem_size=4`) is minor-embedded into the QPU working graph. \n",
    "\n",
    "Colored dots are qubits: note that pairs of identically-colored dots, such as the blue, green, and red pairs on the top row, represent a single node of the logical network. "
   ]
  },
  {
   "cell_type": "markdown",
   "id": "33dc11c9-c0d7-429b-8ef1-daedd9a29fa4",
   "metadata": {},
   "source": [
    "<img src=\"_static/embedding_lattice4.png\" width=\"700\">\n"
   ]
  },
  {
   "cell_type": "markdown",
   "id": "e9481773-0fa3-4602-bbd0-a631b81378c8",
   "metadata": {},
   "source": [
    "## Advantage2: Boosting Performance "
   ]
  },
  {
   "cell_type": "code",
   "execution_count": null,
   "id": "9d6939ca-5592-4191-99a7-fa8ca775bf35",
   "metadata": {},
   "outputs": [],
   "source": []
  }
 ],
 "metadata": {
  "kernelspec": {
   "display_name": "Python 3 (ipykernel)",
   "language": "python",
   "name": "python3"
  },
  "language_info": {
   "codemirror_mode": {
    "name": "ipython",
    "version": 3
   },
   "file_extension": ".py",
   "mimetype": "text/x-python",
   "name": "python",
   "nbconvert_exporter": "python",
   "pygments_lexer": "ipython3",
   "version": "3.10.2"
  }
 },
 "nbformat": 4,
 "nbformat_minor": 5
}
